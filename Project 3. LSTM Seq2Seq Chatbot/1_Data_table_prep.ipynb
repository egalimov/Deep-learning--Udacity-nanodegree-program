{
 "cells": [
  {
   "cell_type": "code",
   "execution_count": 8,
   "id": "8fad94ac",
   "metadata": {},
   "outputs": [
    {
     "name": "stdout",
     "output_type": "stream",
     "text": [
      "pandas 1.3.5\n",
      "torch 1.9.0+cpu\n",
      "torchtext 1.9.0+cpu\n"
     ]
    }
   ],
   "source": [
    "# loading packages\n",
    "import pandas as pd\n",
    "import torch\n",
    "import torchtext.datasets \n",
    "\n",
    "print('pandas',pd.__version__)\n",
    "print('torch',torch.__version__)\n",
    "print('torchtext',torch.__version__)"
   ]
  },
  {
   "cell_type": "code",
   "execution_count": 9,
   "id": "33deb2e6",
   "metadata": {},
   "outputs": [],
   "source": [
    "# load datasets\n",
    "sq_data_train, sq_data_dev = torchtext.datasets.SQuAD1()\n",
    "\n",
    "# converting them to lists\n",
    "sq_data_train_list = list(sq_data_train)\n",
    "\n",
    "sq_data_dev_list = list( sq_data_dev )"
   ]
  },
  {
   "cell_type": "code",
   "execution_count": 10,
   "id": "7db59eb5",
   "metadata": {},
   "outputs": [],
   "source": [
    "# creating pandas dataframe and saving it \n",
    "train_data = pd.DataFrame(columns=['Question', 'Answer'])\n",
    "for i in range( 0,len(sq_data_train_list) ):\n",
    "    #print(i)\n",
    "    append_list = [ sq_data_train_list[i][1],str(sq_data_train_list[i][2])[2:-2] ]\n",
    "    train_data = train_data.append(pd.Series(append_list, index=['Question','Answer']), ignore_index=True)\n",
    "    \n",
    "\n",
    "train_data.to_csv('train_data_sq2.csv', index = False)"
   ]
  },
  {
   "cell_type": "code",
   "execution_count": null,
   "id": "a237c316",
   "metadata": {},
   "outputs": [],
   "source": []
  }
 ],
 "metadata": {
  "kernelspec": {
   "display_name": "Python 3 (ipykernel)",
   "language": "python",
   "name": "python3"
  },
  "language_info": {
   "codemirror_mode": {
    "name": "ipython",
    "version": 3
   },
   "file_extension": ".py",
   "mimetype": "text/x-python",
   "name": "python",
   "nbconvert_exporter": "python",
   "pygments_lexer": "ipython3",
   "version": "3.7.16"
  }
 },
 "nbformat": 4,
 "nbformat_minor": 5
}
