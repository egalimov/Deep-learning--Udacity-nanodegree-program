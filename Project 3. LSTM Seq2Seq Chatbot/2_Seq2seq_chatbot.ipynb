{
 "cells": [
  {
   "cell_type": "code",
   "execution_count": null,
   "metadata": {
    "colab": {
     "base_uri": "https://localhost:8080/"
    },
    "id": "w4JUQ0UAGiu0",
    "outputId": "790aff14-c7b9-4174-9c0b-a23f7e7281cb"
   },
   "outputs": [
    {
     "name": "stdout",
     "output_type": "stream",
     "text": [
      "Mounted at /content/gdrive/\n"
     ]
    }
   ],
   "source": [
    "from google.colab import drive\n",
    "drive.mount('/content/gdrive/')"
   ]
  },
  {
   "cell_type": "code",
   "execution_count": null,
   "metadata": {
    "id": "IbNbzHOyGixs"
   },
   "outputs": [],
   "source": [
    "# enter the directory \n",
    "%cd /content/gdrive/MyDrive/1_Udacity/3_RNN"
   ]
  },
  {
   "cell_type": "code",
   "execution_count": null,
   "metadata": {
    "id": "sNVOpyXw7Oxf"
   },
   "outputs": [],
   "source": [
    "# Load packages\n",
    "import gensim\n",
    "import nltk\n",
    "import numpy as np\n",
    "import pandas as pd\n",
    "import gzip\n",
    "import torch\n",
    "from nltk.corpus import brown\n",
    "from torchtext.datasets import SQuAD1\n",
    "import string\n",
    "import pickle \n",
    "import torch.nn as nn\n",
    "import random \n",
    "from sklearn.model_selection import train_test_split"
   ]
  },
  {
   "cell_type": "code",
   "execution_count": null,
   "metadata": {
    "colab": {
     "base_uri": "https://localhost:8080/"
    },
    "id": "FnQwPkAR-zRX",
    "outputId": "8fcd2717-9eb0-4006-8f7d-81c7d7f2cb6d"
   },
   "outputs": [
    {
     "name": "stdout",
     "output_type": "stream",
     "text": [
      "Looking in indexes: https://pypi.org/simple, https://us-python.pkg.dev/colab-wheels/public/simple/\n",
      "Collecting livelossplot\n",
      "  Downloading livelossplot-0.5.5-py3-none-any.whl (22 kB)\n",
      "Requirement already satisfied: bokeh in /usr/local/lib/python3.8/dist-packages (from livelossplot) (2.4.3)\n",
      "Requirement already satisfied: matplotlib in /usr/local/lib/python3.8/dist-packages (from livelossplot) (3.5.3)\n",
      "Requirement already satisfied: pillow>=7.1.0 in /usr/local/lib/python3.8/dist-packages (from bokeh->livelossplot) (8.4.0)\n",
      "Requirement already satisfied: Jinja2>=2.9 in /usr/local/lib/python3.8/dist-packages (from bokeh->livelossplot) (3.1.2)\n",
      "Requirement already satisfied: packaging>=16.8 in /usr/local/lib/python3.8/dist-packages (from bokeh->livelossplot) (23.0)\n",
      "Requirement already satisfied: typing-extensions>=3.10.0 in /usr/local/lib/python3.8/dist-packages (from bokeh->livelossplot) (4.5.0)\n",
      "Requirement already satisfied: tornado>=5.1 in /usr/local/lib/python3.8/dist-packages (from bokeh->livelossplot) (6.2)\n",
      "Requirement already satisfied: PyYAML>=3.10 in /usr/local/lib/python3.8/dist-packages (from bokeh->livelossplot) (6.0)\n",
      "Requirement already satisfied: numpy>=1.11.3 in /usr/local/lib/python3.8/dist-packages (from bokeh->livelossplot) (1.22.4)\n",
      "Requirement already satisfied: fonttools>=4.22.0 in /usr/local/lib/python3.8/dist-packages (from matplotlib->livelossplot) (4.38.0)\n",
      "Requirement already satisfied: pyparsing>=2.2.1 in /usr/local/lib/python3.8/dist-packages (from matplotlib->livelossplot) (3.0.9)\n",
      "Requirement already satisfied: cycler>=0.10 in /usr/local/lib/python3.8/dist-packages (from matplotlib->livelossplot) (0.11.0)\n",
      "Requirement already satisfied: kiwisolver>=1.0.1 in /usr/local/lib/python3.8/dist-packages (from matplotlib->livelossplot) (1.4.4)\n",
      "Requirement already satisfied: python-dateutil>=2.7 in /usr/local/lib/python3.8/dist-packages (from matplotlib->livelossplot) (2.8.2)\n",
      "Requirement already satisfied: MarkupSafe>=2.0 in /usr/local/lib/python3.8/dist-packages (from Jinja2>=2.9->bokeh->livelossplot) (2.1.2)\n",
      "Requirement already satisfied: six>=1.5 in /usr/local/lib/python3.8/dist-packages (from python-dateutil>=2.7->matplotlib->livelossplot) (1.15.0)\n",
      "Installing collected packages: livelossplot\n",
      "Successfully installed livelossplot-0.5.5\n"
     ]
    }
   ],
   "source": [
    "# Installing and loading additional packages\n",
    "# Restart after run\n",
    "!pip install livelossplot\n",
    "from livelossplot import PlotLosses\n",
    "from livelossplot.outputs import MatplotlibPlot"
   ]
  },
  {
   "cell_type": "code",
   "execution_count": null,
   "metadata": {
    "id": "3VNG5z-px55v"
   },
   "outputs": [],
   "source": [
    "# loading stemmer and creating tokenizer\n",
    "stemmer = nltk.stem.snowball.SnowballStemmer('english')\n",
    "from nltk.tokenize import RegexpTokenizer\n",
    "tokenizer = RegexpTokenizer(r'\\w+')"
   ]
  },
  {
   "cell_type": "code",
   "execution_count": null,
   "metadata": {
    "id": "UikmIu7Rx7Oa"
   },
   "outputs": [],
   "source": [
    "# Load Squad1 training data data obtailed using 'Data_table_prep.ipynb' - that notebook was run on local computer\n",
    "train_data = pd.read_csv('train_data_sq1.csv')"
   ]
  },
  {
   "cell_type": "code",
   "execution_count": null,
   "metadata": {
    "id": "Mg8vMFT7x6H3"
   },
   "outputs": [],
   "source": [
    "# create vocabulary objects\n",
    "PAD_token = 0  # Used for padding short sentences\n",
    "SOS_token = 1  # Start-of-sentence token\n",
    "EOS_token = 2  # End-of-sentence token\n",
    "\n",
    "class Vocab:\n",
    "    def __init__(self, name):\n",
    "        self.name = name\n",
    "        self.words2index = {}\n",
    "        self.word_number = 3\n",
    "        self.index2word = {PAD_token: \"<PAD>\", SOS_token: \"<SOS>\", EOS_token: \"<EOS>\"}\n",
    "        self.word2count = {}\n",
    "        \n",
    "    def cleanText(self, text):\n",
    "        tokenizer = RegexpTokenizer(r'\\w+')\n",
    "        text = tokenizer.tokenize(text)\n",
    "        return text\n",
    "\n",
    "    def indexWord(self, word):\n",
    "        word = word.lower()\n",
    "        if word not in self.words2index:\n",
    "            self.words2index[word] = self.word_number\n",
    "            self.index2word[self.word_number] = word\n",
    "            self.word2count[word] = 1\n",
    "            self.word_number +=1\n",
    "        else:\n",
    "            self.word2count[word] += 1\n",
    "\n",
    "    def trim(self, min_count_allowed):\n",
    "\n",
    "        td = self.word2count\n",
    "        trimmed_words = pd.DataFrame([td]).T\n",
    "        trimmed_words.rename(columns={ trimmed_words.columns[0]: \"counts\" }, inplace = True)\n",
    "        trimmed_words['words'] = trimmed_words.index\n",
    "        trimmed_words = trimmed_words[trimmed_words[\"counts\"]>=min_count_allowed]\n",
    "\n",
    "        trimmed_words = trimmed_words['words'].tolist()\n",
    "        # Reinitialize dictionaries\n",
    "        self.words2index = {}\n",
    "        self.word_number = 3\n",
    "        self.index2word = {PAD_token: \"<PAD>\", SOS_token: \"<SOS>\", EOS_token: \"<EOS>\"}\n",
    "        self.word2count = {}\n",
    "\n",
    "        for word in trimmed_words:\n",
    "            self.indexWord(word)"
   ]
  },
  {
   "cell_type": "code",
   "execution_count": null,
   "metadata": {
    "id": "gJeY85Kgx6KP"
   },
   "outputs": [],
   "source": [
    "# remove missing data\n",
    "train_data_qa = train_data[train_data['Answer'].notna()]\n",
    "train_data_qa = train_data_qa.reset_index(0)\n"
   ]
  },
  {
   "cell_type": "code",
   "execution_count": null,
   "metadata": {
    "id": "b6O8A8hHx6Mq"
   },
   "outputs": [],
   "source": [
    "# further data preprocessing\n",
    "\n",
    "# function from https://github.com/iJoud/Seq2Seq-Chatbot/blob/main/src/Data.py\n",
    "def prepare_text(sentence):\n",
    "    # clean text and tokenize it \n",
    "    sentence = ''.join([s.lower() for s in sentence if s not in string.punctuation])\n",
    "    sentence = ' '.join(stemmer.stem(w) for w in sentence.split())\n",
    "    tokens = nltk.tokenize.RegexpTokenizer(r'\\w+').tokenize(sentence)\n",
    "    return tokens\n",
    "\n",
    "\n",
    "train_data_qa['q_tokens'] = ''\n",
    "train_data_qa['q_tokens'].astype(object)\n",
    "train_data_qa['a_tokens'] = ''\n",
    "train_data_qa['a_tokens'].astype(object)\n",
    "\n",
    "\n",
    "for i in range(0, train_data_qa.shape[0]):\n",
    "    #print(i)\n",
    "    # i=0    \n",
    "    train_data_qa.at[i,'q_tokens'] = prepare_text(train_data_qa.loc[i,'Question'])\n",
    "    train_data_qa.at[i,'a_tokens'] = prepare_text(train_data_qa.loc[i,'Answer'])\n",
    "\n",
    "\n",
    "\n",
    "# creating disctionaries\n",
    "miss = 0\n",
    "SRC = Vocab('squad_q')\n",
    "for i in range(0, train_data_qa.shape[0]): \n",
    " \n",
    "    if type(train_data_qa.loc[i, 'Question']) == str:\n",
    "        for j in train_data_qa.loc[i, 'q_tokens']:\n",
    "            SRC.indexWord(j)\n",
    "    else: \n",
    "        miss+=1\n",
    "        next\n",
    "\n",
    "miss = 0\n",
    "TRG = Vocab('squad_a')\n",
    "for i in range(0, train_data_qa.shape[0]):\n",
    "    if type(train_data_qa.loc[i, 'Answer']) == str:\n",
    "        for j in train_data_qa.loc[i, 'a_tokens']:\n",
    "            TRG.indexWord(j)\n",
    "    else: \n",
    "        miss+=1\n",
    "        next\n",
    "\n",
    "# trimming disctionaries\n",
    "SRC.trim(2)\n",
    "TRG.trim(2)"
   ]
  },
  {
   "cell_type": "code",
   "execution_count": null,
   "metadata": {
    "id": "TxPhldnJx6Ov"
   },
   "outputs": [],
   "source": [
    "# remove the  Q&A pairs which contain words trimmed from any of 2 vocabularies\n",
    "train_data_qa['keep'] = True\n",
    "# Remove Q&A if they contain rare words\n",
    "for i in range(0, train_data_qa.shape[0]): \n",
    "    # i = 0\n",
    "    #print(i)\n",
    "    list_temp = train_data_qa.loc[i, 'q_tokens'] + train_data_qa.loc[i, 'a_tokens']\n",
    "    for j in list_temp:\n",
    "        j = j.lower()\n",
    "        if ( (j not in SRC.words2index) | (j not in TRG.words2index) ):\n",
    "            train_data_qa.loc[i,'keep'] = False\n",
    "\n",
    "train_data_qa_trim = train_data_qa[train_data_qa['keep']==True]"
   ]
  },
  {
   "cell_type": "code",
   "execution_count": null,
   "metadata": {
    "colab": {
     "base_uri": "https://localhost:8080/"
    },
    "id": "eWhKMw-2tZ-f",
    "outputId": "8db72df2-1776-430f-9734-a5ba97adce76"
   },
   "outputs": [
    {
     "name": "stdout",
     "output_type": "stream",
     "text": [
      "15670\n",
      "15504\n"
     ]
    }
   ],
   "source": [
    "print( SRC.word_number )\n",
    "print( TRG.word_number )"
   ]
  },
  {
   "cell_type": "code",
   "execution_count": null,
   "metadata": {
    "id": "oJOfbN2b0jbp"
   },
   "outputs": [],
   "source": [
    "# function to convert words to indexes\n",
    "def conv2index(input_list, vocab):\n",
    "    indices = [vocab.words2index[word] for word in input_list]\n",
    "    indices = [1] + indices + [2] \n",
    "    return indices"
   ]
  },
  {
   "cell_type": "code",
   "execution_count": null,
   "metadata": {
    "id": "h_MvQpH30jeB"
   },
   "outputs": [],
   "source": [
    "# removing NA\n",
    "train_data_qa_trim = train_data_qa_trim[train_data_qa_trim['Answer'].notna()]\n",
    "\n",
    "# adding columns with lists of indexes\n",
    "source_data = []\n",
    "target_data = []\n",
    "for i in range(0, train_data_qa_trim.shape[0]):\n",
    "    #print(i)\n",
    "    source_data.append(  conv2index(train_data_qa_trim.iloc[i,3], SRC)  )\n",
    "    target_data.append(  conv2index(train_data_qa_trim.iloc[i,4], TRG)  )\n",
    "    \n",
    "train_data_qa_trim['Q_indexes'] = source_data  \n",
    "train_data_qa_trim['A_indexes'] = target_data "
   ]
  },
  {
   "cell_type": "code",
   "execution_count": null,
   "metadata": {
    "colab": {
     "base_uri": "https://localhost:8080/",
     "height": 441
    },
    "id": "LBnCK4Wa0jgj",
    "outputId": "4e997733-ac4b-47f5-aba8-edb4af56b86e"
   },
   "outputs": [
    {
     "data": {
      "text/html": [
       "\n",
       "  <div id=\"df-f42a7da6-24c7-48cf-a6f7-bebd17a90805\">\n",
       "    <div class=\"colab-df-container\">\n",
       "      <div>\n",
       "<style scoped>\n",
       "    .dataframe tbody tr th:only-of-type {\n",
       "        vertical-align: middle;\n",
       "    }\n",
       "\n",
       "    .dataframe tbody tr th {\n",
       "        vertical-align: top;\n",
       "    }\n",
       "\n",
       "    .dataframe thead th {\n",
       "        text-align: right;\n",
       "    }\n",
       "</style>\n",
       "<table border=\"1\" class=\"dataframe\">\n",
       "  <thead>\n",
       "    <tr style=\"text-align: right;\">\n",
       "      <th></th>\n",
       "      <th>index</th>\n",
       "      <th>Question</th>\n",
       "      <th>Answer</th>\n",
       "      <th>q_tokens</th>\n",
       "      <th>a_tokens</th>\n",
       "      <th>keep</th>\n",
       "      <th>Q_indexes</th>\n",
       "      <th>A_indexes</th>\n",
       "    </tr>\n",
       "  </thead>\n",
       "  <tbody>\n",
       "    <tr>\n",
       "      <th>1</th>\n",
       "      <td>1</td>\n",
       "      <td>What is in front of the Notre Dame Main Building?</td>\n",
       "      <td>a copper statue of Christ</td>\n",
       "      <td>[what, is, in, front, of, the, notr, dame, mai...</td>\n",
       "      <td>[a, copper, statu, of, christ]</td>\n",
       "      <td>True</td>\n",
       "      <td>[1, 15, 16, 11, 17, 18, 6, 19, 20, 21, 22, 2]</td>\n",
       "      <td>[1, 4, 5, 6, 7, 8, 2]</td>\n",
       "    </tr>\n",
       "    <tr>\n",
       "      <th>2</th>\n",
       "      <td>2</td>\n",
       "      <td>The Basilica of the Sacred heart at Notre Dame...</td>\n",
       "      <td>the Main Building</td>\n",
       "      <td>[the, basilica, of, the, sacr, heart, at, notr...</td>\n",
       "      <td>[the, main, build]</td>\n",
       "      <td>True</td>\n",
       "      <td>[1, 6, 23, 18, 6, 24, 25, 26, 19, 20, 16, 27, ...</td>\n",
       "      <td>[1, 9, 10, 11, 2]</td>\n",
       "    </tr>\n",
       "    <tr>\n",
       "      <th>4</th>\n",
       "      <td>4</td>\n",
       "      <td>What sits on top of the Main Building at Notre...</td>\n",
       "      <td>a golden statue of the Virgin Mary</td>\n",
       "      <td>[what, sit, on, top, of, the, main, build, at,...</td>\n",
       "      <td>[a, golden, statu, of, the, virgin, mari]</td>\n",
       "      <td>True</td>\n",
       "      <td>[1, 15, 31, 32, 33, 18, 6, 21, 22, 26, 19, 20, 2]</td>\n",
       "      <td>[1, 4, 17, 6, 7, 9, 18, 19, 2]</td>\n",
       "    </tr>\n",
       "    <tr>\n",
       "      <th>5</th>\n",
       "      <td>5</td>\n",
       "      <td>When did the Scholastic Magazine of Notre dame...</td>\n",
       "      <td>September 1876</td>\n",
       "      <td>[when, did, the, scholast, magazin, of, notr, ...</td>\n",
       "      <td>[septemb, 1876]</td>\n",
       "      <td>True</td>\n",
       "      <td>[1, 34, 5, 6, 35, 36, 18, 19, 20, 37, 38, 2]</td>\n",
       "      <td>[1, 20, 21, 2]</td>\n",
       "    </tr>\n",
       "    <tr>\n",
       "      <th>7</th>\n",
       "      <td>7</td>\n",
       "      <td>What is the daily student paper at Notre Dame ...</td>\n",
       "      <td>The Observer</td>\n",
       "      <td>[what, is, the, daili, student, paper, at, not...</td>\n",
       "      <td>[the, observ]</td>\n",
       "      <td>True</td>\n",
       "      <td>[1, 15, 16, 6, 41, 42, 43, 26, 19, 20, 44, 2]</td>\n",
       "      <td>[1, 9, 23, 2]</td>\n",
       "    </tr>\n",
       "  </tbody>\n",
       "</table>\n",
       "</div>\n",
       "      <button class=\"colab-df-convert\" onclick=\"convertToInteractive('df-f42a7da6-24c7-48cf-a6f7-bebd17a90805')\"\n",
       "              title=\"Convert this dataframe to an interactive table.\"\n",
       "              style=\"display:none;\">\n",
       "        \n",
       "  <svg xmlns=\"http://www.w3.org/2000/svg\" height=\"24px\"viewBox=\"0 0 24 24\"\n",
       "       width=\"24px\">\n",
       "    <path d=\"M0 0h24v24H0V0z\" fill=\"none\"/>\n",
       "    <path d=\"M18.56 5.44l.94 2.06.94-2.06 2.06-.94-2.06-.94-.94-2.06-.94 2.06-2.06.94zm-11 1L8.5 8.5l.94-2.06 2.06-.94-2.06-.94L8.5 2.5l-.94 2.06-2.06.94zm10 10l.94 2.06.94-2.06 2.06-.94-2.06-.94-.94-2.06-.94 2.06-2.06.94z\"/><path d=\"M17.41 7.96l-1.37-1.37c-.4-.4-.92-.59-1.43-.59-.52 0-1.04.2-1.43.59L10.3 9.45l-7.72 7.72c-.78.78-.78 2.05 0 2.83L4 21.41c.39.39.9.59 1.41.59.51 0 1.02-.2 1.41-.59l7.78-7.78 2.81-2.81c.8-.78.8-2.07 0-2.86zM5.41 20L4 18.59l7.72-7.72 1.47 1.35L5.41 20z\"/>\n",
       "  </svg>\n",
       "      </button>\n",
       "      \n",
       "  <style>\n",
       "    .colab-df-container {\n",
       "      display:flex;\n",
       "      flex-wrap:wrap;\n",
       "      gap: 12px;\n",
       "    }\n",
       "\n",
       "    .colab-df-convert {\n",
       "      background-color: #E8F0FE;\n",
       "      border: none;\n",
       "      border-radius: 50%;\n",
       "      cursor: pointer;\n",
       "      display: none;\n",
       "      fill: #1967D2;\n",
       "      height: 32px;\n",
       "      padding: 0 0 0 0;\n",
       "      width: 32px;\n",
       "    }\n",
       "\n",
       "    .colab-df-convert:hover {\n",
       "      background-color: #E2EBFA;\n",
       "      box-shadow: 0px 1px 2px rgba(60, 64, 67, 0.3), 0px 1px 3px 1px rgba(60, 64, 67, 0.15);\n",
       "      fill: #174EA6;\n",
       "    }\n",
       "\n",
       "    [theme=dark] .colab-df-convert {\n",
       "      background-color: #3B4455;\n",
       "      fill: #D2E3FC;\n",
       "    }\n",
       "\n",
       "    [theme=dark] .colab-df-convert:hover {\n",
       "      background-color: #434B5C;\n",
       "      box-shadow: 0px 1px 3px 1px rgba(0, 0, 0, 0.15);\n",
       "      filter: drop-shadow(0px 1px 2px rgba(0, 0, 0, 0.3));\n",
       "      fill: #FFFFFF;\n",
       "    }\n",
       "  </style>\n",
       "\n",
       "      <script>\n",
       "        const buttonEl =\n",
       "          document.querySelector('#df-f42a7da6-24c7-48cf-a6f7-bebd17a90805 button.colab-df-convert');\n",
       "        buttonEl.style.display =\n",
       "          google.colab.kernel.accessAllowed ? 'block' : 'none';\n",
       "\n",
       "        async function convertToInteractive(key) {\n",
       "          const element = document.querySelector('#df-f42a7da6-24c7-48cf-a6f7-bebd17a90805');\n",
       "          const dataTable =\n",
       "            await google.colab.kernel.invokeFunction('convertToInteractive',\n",
       "                                                     [key], {});\n",
       "          if (!dataTable) return;\n",
       "\n",
       "          const docLinkHtml = 'Like what you see? Visit the ' +\n",
       "            '<a target=\"_blank\" href=https://colab.research.google.com/notebooks/data_table.ipynb>data table notebook</a>'\n",
       "            + ' to learn more about interactive tables.';\n",
       "          element.innerHTML = '';\n",
       "          dataTable['output_type'] = 'display_data';\n",
       "          await google.colab.output.renderOutput(dataTable, element);\n",
       "          const docLink = document.createElement('div');\n",
       "          docLink.innerHTML = docLinkHtml;\n",
       "          element.appendChild(docLink);\n",
       "        }\n",
       "      </script>\n",
       "    </div>\n",
       "  </div>\n",
       "  "
      ],
      "text/plain": [
       "   index                                           Question  \\\n",
       "1      1  What is in front of the Notre Dame Main Building?   \n",
       "2      2  The Basilica of the Sacred heart at Notre Dame...   \n",
       "4      4  What sits on top of the Main Building at Notre...   \n",
       "5      5  When did the Scholastic Magazine of Notre dame...   \n",
       "7      7  What is the daily student paper at Notre Dame ...   \n",
       "\n",
       "                               Answer  \\\n",
       "1           a copper statue of Christ   \n",
       "2                   the Main Building   \n",
       "4  a golden statue of the Virgin Mary   \n",
       "5                      September 1876   \n",
       "7                        The Observer   \n",
       "\n",
       "                                            q_tokens  \\\n",
       "1  [what, is, in, front, of, the, notr, dame, mai...   \n",
       "2  [the, basilica, of, the, sacr, heart, at, notr...   \n",
       "4  [what, sit, on, top, of, the, main, build, at,...   \n",
       "5  [when, did, the, scholast, magazin, of, notr, ...   \n",
       "7  [what, is, the, daili, student, paper, at, not...   \n",
       "\n",
       "                                    a_tokens  keep  \\\n",
       "1             [a, copper, statu, of, christ]  True   \n",
       "2                         [the, main, build]  True   \n",
       "4  [a, golden, statu, of, the, virgin, mari]  True   \n",
       "5                            [septemb, 1876]  True   \n",
       "7                              [the, observ]  True   \n",
       "\n",
       "                                           Q_indexes  \\\n",
       "1      [1, 15, 16, 11, 17, 18, 6, 19, 20, 21, 22, 2]   \n",
       "2  [1, 6, 23, 18, 6, 24, 25, 26, 19, 20, 16, 27, ...   \n",
       "4  [1, 15, 31, 32, 33, 18, 6, 21, 22, 26, 19, 20, 2]   \n",
       "5       [1, 34, 5, 6, 35, 36, 18, 19, 20, 37, 38, 2]   \n",
       "7      [1, 15, 16, 6, 41, 42, 43, 26, 19, 20, 44, 2]   \n",
       "\n",
       "                        A_indexes  \n",
       "1           [1, 4, 5, 6, 7, 8, 2]  \n",
       "2               [1, 9, 10, 11, 2]  \n",
       "4  [1, 4, 17, 6, 7, 9, 18, 19, 2]  \n",
       "5                  [1, 20, 21, 2]  \n",
       "7                   [1, 9, 23, 2]  "
      ]
     },
     "execution_count": 14,
     "metadata": {},
     "output_type": "execute_result"
    }
   ],
   "source": [
    "train_data_qa_trim.head(5)"
   ]
  },
  {
   "cell_type": "code",
   "execution_count": null,
   "metadata": {
    "colab": {
     "base_uri": "https://localhost:8080/"
    },
    "id": "GbU0hfLQ20zn",
    "outputId": "f7a43e32-41b0-4fbd-c30c-95e6e0b9771d"
   },
   "outputs": [
    {
     "name": "stdout",
     "output_type": "stream",
     "text": [
      "[ 1 15 16 11 17 18  6 19 20 21 22  2]\n",
      "[1 4 5 6 7 8 2]\n"
     ]
    }
   ],
   "source": [
    "# defining the device\n",
    "device = 'cuda'\n",
    "#device = 'cpu'\n",
    "\n",
    "# creating tensors using the defined device\n",
    "source_data = []\n",
    "target_data = []\n",
    "for i in range(0,train_data_qa_trim.shape[0]):\n",
    "    source_data.append(torch.Tensor(train_data_qa_trim.iloc[i,6]).long().to(device))\n",
    "    target_data.append(torch.Tensor(train_data_qa_trim.iloc[i,7]).long().to(device))\n",
    "\n",
    "print( source_data[0].cpu().numpy() ) \n",
    "print( target_data[0].cpu().numpy() ) "
   ]
  },
  {
   "cell_type": "code",
   "execution_count": null,
   "metadata": {
    "colab": {
     "base_uri": "https://localhost:8080/"
    },
    "id": "f9DBOcNz28u_",
    "outputId": "60d7b27a-d54d-4ec0-8e67-d7d17613342e"
   },
   "outputs": [
    {
     "data": {
      "text/plain": [
       "6000"
      ]
     },
     "execution_count": 16,
     "metadata": {},
     "output_type": "execute_result"
    }
   ],
   "source": [
    "# limiting the data to the first 6000 Q&A pairs to accelerate the training\n",
    "source_data = source_data[0:6000]\n",
    "target_data = target_data[0:6000]\n",
    "len(source_data)"
   ]
  },
  {
   "cell_type": "code",
   "execution_count": null,
   "metadata": {
    "colab": {
     "base_uri": "https://localhost:8080/"
    },
    "id": "w4p16HcqucBQ",
    "outputId": "668a60f1-43da-46a1-94e6-a72083c578db"
   },
   "outputs": [
    {
     "data": {
      "text/plain": [
       "tensor([ 1,  9, 10, 11,  2])"
      ]
     },
     "execution_count": 19,
     "metadata": {},
     "output_type": "execute_result"
    }
   ],
   "source": [
    "# checking the data\n",
    "target_data[1]"
   ]
  },
  {
   "cell_type": "code",
   "execution_count": null,
   "metadata": {
    "colab": {
     "base_uri": "https://localhost:8080/"
    },
    "id": "S2VnwLW5N-xy",
    "outputId": "1e91b596-6a3b-4625-c3f4-1fbeae30c6d8"
   },
   "outputs": [
    {
     "name": "stdout",
     "output_type": "stream",
     "text": [
      "[ 1 15 16 11 17 18  6 19 20 21 22  2]\n",
      "[1 4 5 6 7 8 2]\n"
     ]
    }
   ],
   "source": [
    "#pickle.dump( source_data, open( \"source_data230305_6000.p\", \"wb\" ) ) \n",
    "#pickle.dump( target_data, open( \"target_data230305_6000.p\", \"wb\" ) ) \n",
    "source_data = pickle.load( open( \"source_data230305_6000.p\", \"rb\" ) ) \n",
    "target_data = pickle.load( open( \"target_data230305_6000.p\", \"rb\" ) ) \n",
    "print( source_data[0].cpu().numpy() ) \n",
    "print( target_data[0].cpu().numpy() ) "
   ]
  },
  {
   "cell_type": "code",
   "execution_count": null,
   "metadata": {
    "id": "GVMWUhiUOlGp"
   },
   "outputs": [],
   "source": []
  },
  {
   "cell_type": "markdown",
   "metadata": {
    "id": "w_PAcP-I5TSD"
   },
   "source": [
    "# Create Seq2Seq model"
   ]
  },
  {
   "cell_type": "code",
   "execution_count": null,
   "metadata": {
    "id": "vW-rA624-zRd"
   },
   "outputs": [],
   "source": [
    "# Defining the Encoder, Decoder and Seq2Seq\n",
    "\n",
    "# based on the model from  https://github.com/iJoud/Seq2Seq-Chatbot/blob/main/src/Models.py\n",
    "class Encoder(nn.Module):\n",
    "  \n",
    "    def __init__(self, input_size, emb_size, hidden_size, n_layers, dropout):\n",
    "        super(Encoder, self).__init__()\n",
    "        \n",
    "        self.input_size = input_size\n",
    "        self.hidden_size = hidden_size\n",
    "        self.emb_size = emb_size\n",
    "        self.n_layers = n_layers\n",
    "\n",
    "        self.embedding = nn.Embedding(self.input_size, self.emb_size)\n",
    "        # self.lstm = nn.LSTM(self.hidden_size, self.hidden_size)\n",
    "        self.rnn = nn.LSTM(emb_size, hidden_size, n_layers, dropout = dropout)\n",
    "\n",
    "        self.dropout = nn.Dropout(dropout)\n",
    "\n",
    "    def forward(self, x, hidden, cell_state):\n",
    "        \n",
    "        x = self.dropout( self.embedding(x).view(1, 1, -1) )\n",
    "        x, (hidden, cell_state) = self.rnn(x, (hidden, cell_state))\n",
    "        \n",
    "        return x, hidden, cell_state\n",
    "        \n",
    "\n",
    "class Decoder(nn.Module):\n",
    "\n",
    "    def __init__(self, output_size, emb_size, hidden_size, n_layers, dropout):\n",
    "        super(Decoder, self).__init__()\n",
    "        \n",
    "        self.hidden_size = hidden_size\n",
    "        self.output_size = output_size\n",
    "        self.emb_size = emb_size\n",
    "        self.n_layers = n_layers\n",
    "        self.dropout = nn.Dropout(dropout)\n",
    "\n",
    "        self.embedding = nn.Embedding(self.output_size, self.emb_size)\n",
    "\n",
    "        self.rnn = nn.LSTM(emb_size, hidden_size, n_layers, dropout = dropout)\n",
    "        # self.lstm = nn.LSTM(self.hidden_size, self.hidden_size)\n",
    "        self.fc = nn.Linear(self.hidden_size, self.output_size)\n",
    "        self.softmax = nn.LogSoftmax(dim=1)\n",
    "\n",
    "    def forward(self, x, hidden, cell_state):\n",
    "        \n",
    "        x = self.dropout( self.embedding(x).view(1, 1, -1) )\n",
    "        x, (hidden, cell_state) = self.rnn(x, (hidden, cell_state))\n",
    "        x = self.softmax(self.fc(x[0]))\n",
    "        \n",
    "        return x, hidden, cell_state\n",
    "    \n",
    "     \n",
    "class Seq2Seq(nn.Module):\n",
    "    def __init__(self, input_size, hidden_size, output_size, emb_size, n_layers, dropout):\n",
    "        super(Seq2Seq, self).__init__()\n",
    "        \n",
    "        self.input_size = input_size\n",
    "        self.hidden_size = hidden_size\n",
    "        self.output_size = output_size\n",
    "        self.emb_size = emb_size\n",
    "        self.n_layers = n_layers\n",
    "\n",
    "        self.encoder = Encoder(self.input_size, self.emb_size, self.hidden_size, self.n_layers, dropout)\n",
    "        self.decoder = Decoder(self.output_size, self.emb_size, self.hidden_size, self.n_layers, dropout)\n",
    "        \n",
    "    def forward(self, src, trg, teacher_force, training ):\n",
    "        \n",
    "        output = []\n",
    "       \n",
    "        encoder_hidden = torch.ones([n_layers, 1, hidden_size]).to(device) \n",
    "        cell_state = torch.ones([n_layers, 1, hidden_size]).to(device)  \n",
    "\n",
    "        for i in range(src.size()[0]):\n",
    "            encoder_output, encoder_hidden, cell_state = self.encoder(src[i], encoder_hidden, cell_state)\n",
    "\n",
    "        decoder_input = torch.Tensor([[1]]).long().to(device) \n",
    "        decoder_hidden = encoder_hidden\n",
    "        \n",
    "        for i in range(trg.size()[0]): \n",
    "            decoder_output, decoder_hidden, cell_state = self.decoder(decoder_input, decoder_hidden, cell_state)\n",
    "            output.append(torch.squeeze(decoder_output) )     \n",
    "            if training:\n",
    "                if random.random() < teacher_force:\n",
    "                    decoder_input = trg[i]\n",
    "                else:\n",
    "                    decoder_input = decoder_output.argmax(1) \n",
    "            else:\n",
    "                decoder_input = torch.argmax(decoder_output,1).view(1, 1) \n",
    "                        \n",
    "        return output"
   ]
  },
  {
   "cell_type": "markdown",
   "metadata": {
    "id": "tiP6qX8A-zRd"
   },
   "source": [
    "# Train"
   ]
  },
  {
   "cell_type": "code",
   "execution_count": null,
   "metadata": {
    "id": "i1TxciRdZ6N4"
   },
   "outputs": [],
   "source": [
    "# Defining the training loop\n",
    "\n",
    "# based on https://github.com/iJoud/Seq2Seq-Chatbot/blob/main/src/Train.py\n",
    "def train_one_epoch(model, source_data, target_data, batch_size, optimizer, criterion, eploch_random_state):\n",
    "    \n",
    "    model.to(device)\n",
    "    total_training_loss = 0\n",
    "    total_valid_loss = 0\n",
    "    batch_loss = 0\n",
    " \n",
    "\n",
    "    X_train, X_test, y_train, y_test = train_test_split(source_data, target_data, test_size=0.166, random_state=eploch_random_state)\n",
    "\n",
    "\n",
    "    # train loop\n",
    "    model.train()\n",
    "    for i in range(0, len(X_train)):\n",
    "        src = X_train[i]\n",
    "        trg = y_train[i]\n",
    "        \n",
    "        teacher_force = 0\n",
    "        training = True\n",
    "        out = model(src, trg, teacher_force, training)\n",
    "\n",
    "        word_loss = 0\n",
    "        for (s_char, t_char) in zip(out, trg): \n",
    "            word_loss += criterion(s_char, t_char)\n",
    "\n",
    "        batch_loss += word_loss\n",
    "        total_training_loss += (word_loss / trg.size(0))\n",
    "\n",
    "        if i % batch_size == 0 or i == (len(X_train)-1):\n",
    "            batch_loss.backward()\n",
    "            optimizer.step()\n",
    "            optimizer.zero_grad()\n",
    "            batch_loss = 0\n",
    "\n",
    "    training_loss_average = total_training_loss / len(X_train)\n",
    "    # validation loop\n",
    "    model.eval()\n",
    "    for i in range(0, len(X_test)):\n",
    "        src = X_test[i]\n",
    "        trg = y_test[i]\n",
    "\n",
    "        teacher_force = 0\n",
    "        training = False\n",
    "        output = model(src, trg, teacher_force, training)\n",
    "\n",
    "        word_loss = 0\n",
    "        for (s_char, t_char) in zip(output, trg): \n",
    "            word_loss += criterion(s_char, t_char)\n",
    "\n",
    "        total_valid_loss += (word_loss / trg.size(0))\n",
    "\n",
    "    validation_loss_average = total_valid_loss / len(X_test)\n",
    "\n",
    "    return training_loss_average, validation_loss_average\n",
    "    \n",
    "\n"
   ]
  },
  {
   "cell_type": "code",
   "execution_count": null,
   "metadata": {
    "id": "l6LVHTHh5-Ph"
   },
   "outputs": [],
   "source": [
    "import matplotlib.pyplot as plt\n",
    "import time\n",
    "import math\n",
    "\n",
    "# Useful functions for monitoring the performance\n",
    "\n",
    "# from Udacity solution for Improving performance (CNN in depth)\n",
    "def after_subplot(ax: plt.Axes, group_name: str, x_label: str):\n",
    "    \"\"\"Add title xlabel and legend to single chart\"\"\"\n",
    "    ax.set_title(group_name)\n",
    "    ax.set_xlabel(x_label)\n",
    "    ax.legend(loc=\"center right\")\n",
    "\n",
    "    if group_name.lower() == \"loss\":\n",
    "        ax.set_ylim([0, 10])\n",
    "\n",
    "# from https://github.com/bentrevett/pytorch-seq2seq/blob/master/1%20-%20Sequence%20to%20Sequence%20Learning%20with%20Neural%20Networks.ipynb\n",
    "def epoch_time(start_time, end_time):\n",
    "    elapsed_time = end_time - start_time\n",
    "    elapsed_mins = int(elapsed_time / 60)\n",
    "    elapsed_secs = int(elapsed_time - (elapsed_mins * 60))\n",
    "    return elapsed_mins, elapsed_secs"
   ]
  },
  {
   "cell_type": "code",
   "execution_count": null,
   "metadata": {
    "colab": {
     "base_uri": "https://localhost:8080/",
     "height": 620
    },
    "id": "_CYWdG1JziSh",
    "outputId": "9a5582e0-776b-4d2f-96e4-c2698b10a2db"
   },
   "outputs": [
    {
     "data": {
      "image/png": "[encoded data removed]",
      "text/plain": [
       "<Figure size 864x576 with 2 Axes>"
      ]
     },
     "metadata": {
      "needs_background": "light"
     },
     "output_type": "display_data"
    },
    {
     "name": "stdout",
     "output_type": "stream",
     "text": [
      "Epoch: 180 | Time: 1m 2s\n",
      "\tTrain Loss: 0.056 \n"
     ]
    }
   ],
   "source": [
    "# looping over based on optimise function from train.py in Landmark classification project\n",
    "\n",
    "# setting the device\n",
    "device = 'cuda'\n",
    "\n",
    "# setting hyperparameters\n",
    "learning_rate = 0.01\n",
    "\n",
    "input_size = SRC.word_number\n",
    "hidden_size = 128\n",
    "output_size = TRG.word_number\n",
    "\n",
    "emb_size = 128\n",
    "n_layers = 2\n",
    "dropout = 0\n",
    "\n",
    "batch_size = 128\n",
    "\n",
    "epochs = 180\n",
    "\n",
    "# initiating the model, optimiser and loss function\n",
    "model = Seq2Seq(SRC.word_number , hidden_size, TRG.word_number, emb_size, n_layers, dropout)\n",
    "optimizer = torch.optim.SGD(model.parameters(), lr=learning_rate)\n",
    "criterion = nn.NLLLoss()\n",
    "\n",
    "# looping through the eploches\n",
    "best_train_loss = float('inf')\n",
    "\n",
    "logs = {}\n",
    "liveloss = PlotLosses(outputs=[MatplotlibPlot(after_subplot=after_subplot)])\n",
    "epoch=0\n",
    "for epoch_random_state in random.sample(range(100, 1000), epochs):\n",
    "    start_time = time.time()\n",
    "    train_avg_loss, valid_avg_loss = train_one_epoch(model, source_data, target_data, batch_size, optimizer, criterion, epoch_random_state)\n",
    "    end_time = time.time()\n",
    "    \n",
    "    epoch_mins, epoch_secs = epoch_time(start_time, end_time)\n",
    "    \n",
    "    if (train_avg_loss < best_train_loss) and (epoch%10==0):\n",
    "        best_train_loss = train_avg_loss\n",
    "        save_name = 'd1_weight'+str(epoch)+'.pt' \n",
    "        torch.save(model.state_dict(), save_name)\n",
    "\n",
    "    logs[\"loss\"] = float(train_avg_loss.detach().cpu().numpy())\n",
    "    logs[\"lr\"] = optimizer.param_groups[0][\"lr\"]\n",
    "\n",
    "    liveloss.update(logs)\n",
    "    liveloss.send()\n",
    "    print(f'Epoch: {epoch+1:02} | Time: {epoch_mins}m {epoch_secs}s')\n",
    "    print(f'\\tTrain Loss: {train_avg_loss:.3f} ')\n",
    "    epoch+=1"
   ]
  },
  {
   "cell_type": "markdown",
   "metadata": {
    "id": "IejbYnbo-zRe"
   },
   "source": [
    "# Evaluate"
   ]
  },
  {
   "cell_type": "code",
   "execution_count": null,
   "metadata": {
    "colab": {
     "base_uri": "https://localhost:8080/"
    },
    "id": "bn4eP6DyD29A",
    "outputId": "87db87b4-3739-467a-8e63-8b1bdbf73b2c"
   },
   "outputs": [
    {
     "data": {
      "text/plain": [
       "Seq2Seq(\n",
       "  (encoder): Encoder(\n",
       "    (embedding): Embedding(15670, 128)\n",
       "    (rnn): LSTM(128, 128, num_layers=2)\n",
       "    (dropout): Dropout(p=0, inplace=False)\n",
       "  )\n",
       "  (decoder): Decoder(\n",
       "    (dropout): Dropout(p=0, inplace=False)\n",
       "    (embedding): Embedding(15504, 128)\n",
       "    (rnn): LSTM(128, 128, num_layers=2)\n",
       "    (fc): Linear(in_features=128, out_features=15504, bias=True)\n",
       "    (softmax): LogSoftmax(dim=1)\n",
       "  )\n",
       ")"
      ]
     },
     "execution_count": 12,
     "metadata": {},
     "output_type": "execute_result"
    }
   ],
   "source": [
    "# defining the hyperparameters for the trained chatbot \n",
    "device = \"cuda\"\n",
    "hidden_size = 128\n",
    "emb_size = 128\n",
    "n_layers = 2\n",
    "dropout = 0\n",
    "\n",
    "# loading the trained chatbot with weights\n",
    "seq2seq = Seq2Seq(SRC.word_number , hidden_size, TRG.word_number, emb_size, n_layers, dropout)\n",
    "seq2seq.load_state_dict(torch.load('d1_weight170.pt',map_location=device))\n",
    "seq2seq.to(torch.device('cuda'))"
   ]
  },
  {
   "cell_type": "markdown",
   "metadata": {
    "id": "1AczEnoJ-zRe"
   },
   "source": [
    "# ex, Question & Answer List"
   ]
  },
  {
   "cell_type": "code",
   "execution_count": null,
   "metadata": {
    "colab": {
     "base_uri": "https://localhost:8080/",
     "height": 240
    },
    "id": "uBQEc-jQf6-g",
    "outputId": "5347a0ad-ca68-412e-dd57-5106f4fe6d97"
   },
   "outputs": [
    {
     "data": {
      "text/html": [
       "\n",
       "  <div id=\"df-7e76da02-a0d2-409b-bb52-b3cfe1c56b84\">\n",
       "    <div class=\"colab-df-container\">\n",
       "      <div>\n",
       "<style scoped>\n",
       "    .dataframe tbody tr th:only-of-type {\n",
       "        vertical-align: middle;\n",
       "    }\n",
       "\n",
       "    .dataframe tbody tr th {\n",
       "        vertical-align: top;\n",
       "    }\n",
       "\n",
       "    .dataframe thead th {\n",
       "        text-align: right;\n",
       "    }\n",
       "</style>\n",
       "<table border=\"1\" class=\"dataframe\">\n",
       "  <thead>\n",
       "    <tr style=\"text-align: right;\">\n",
       "      <th></th>\n",
       "      <th>index</th>\n",
       "      <th>Question</th>\n",
       "      <th>Answer</th>\n",
       "      <th>q_tokens</th>\n",
       "      <th>a_tokens</th>\n",
       "      <th>keep</th>\n",
       "      <th>Q_indexes</th>\n",
       "      <th>A_indexes</th>\n",
       "    </tr>\n",
       "  </thead>\n",
       "  <tbody>\n",
       "    <tr>\n",
       "      <th>1</th>\n",
       "      <td>1</td>\n",
       "      <td>What is in front of the Notre Dame Main Building?</td>\n",
       "      <td>a copper statue of Christ</td>\n",
       "      <td>[what, is, in, front, of, the, notr, dame, mai...</td>\n",
       "      <td>[a, copper, statu, of, christ]</td>\n",
       "      <td>True</td>\n",
       "      <td>[1, 15, 16, 11, 17, 18, 6, 19, 20, 21, 22, 2]</td>\n",
       "      <td>[1, 4, 5, 6, 7, 8, 2]</td>\n",
       "    </tr>\n",
       "    <tr>\n",
       "      <th>2</th>\n",
       "      <td>2</td>\n",
       "      <td>The Basilica of the Sacred heart at Notre Dame...</td>\n",
       "      <td>the Main Building</td>\n",
       "      <td>[the, basilica, of, the, sacr, heart, at, notr...</td>\n",
       "      <td>[the, main, build]</td>\n",
       "      <td>True</td>\n",
       "      <td>[1, 6, 23, 18, 6, 24, 25, 26, 19, 20, 16, 27, ...</td>\n",
       "      <td>[1, 9, 10, 11, 2]</td>\n",
       "    </tr>\n",
       "    <tr>\n",
       "      <th>4</th>\n",
       "      <td>4</td>\n",
       "      <td>What sits on top of the Main Building at Notre...</td>\n",
       "      <td>a golden statue of the Virgin Mary</td>\n",
       "      <td>[what, sit, on, top, of, the, main, build, at,...</td>\n",
       "      <td>[a, golden, statu, of, the, virgin, mari]</td>\n",
       "      <td>True</td>\n",
       "      <td>[1, 15, 31, 32, 33, 18, 6, 21, 22, 26, 19, 20, 2]</td>\n",
       "      <td>[1, 4, 17, 6, 7, 9, 18, 19, 2]</td>\n",
       "    </tr>\n",
       "  </tbody>\n",
       "</table>\n",
       "</div>\n",
       "      <button class=\"colab-df-convert\" onclick=\"convertToInteractive('df-7e76da02-a0d2-409b-bb52-b3cfe1c56b84')\"\n",
       "              title=\"Convert this dataframe to an interactive table.\"\n",
       "              style=\"display:none;\">\n",
       "        \n",
       "  <svg xmlns=\"http://www.w3.org/2000/svg\" height=\"24px\"viewBox=\"0 0 24 24\"\n",
       "       width=\"24px\">\n",
       "    <path d=\"M0 0h24v24H0V0z\" fill=\"none\"/>\n",
       "    <path d=\"M18.56 5.44l.94 2.06.94-2.06 2.06-.94-2.06-.94-.94-2.06-.94 2.06-2.06.94zm-11 1L8.5 8.5l.94-2.06 2.06-.94-2.06-.94L8.5 2.5l-.94 2.06-2.06.94zm10 10l.94 2.06.94-2.06 2.06-.94-2.06-.94-.94-2.06-.94 2.06-2.06.94z\"/><path d=\"M17.41 7.96l-1.37-1.37c-.4-.4-.92-.59-1.43-.59-.52 0-1.04.2-1.43.59L10.3 9.45l-7.72 7.72c-.78.78-.78 2.05 0 2.83L4 21.41c.39.39.9.59 1.41.59.51 0 1.02-.2 1.41-.59l7.78-7.78 2.81-2.81c.8-.78.8-2.07 0-2.86zM5.41 20L4 18.59l7.72-7.72 1.47 1.35L5.41 20z\"/>\n",
       "  </svg>\n",
       "      </button>\n",
       "      \n",
       "  <style>\n",
       "    .colab-df-container {\n",
       "      display:flex;\n",
       "      flex-wrap:wrap;\n",
       "      gap: 12px;\n",
       "    }\n",
       "\n",
       "    .colab-df-convert {\n",
       "      background-color: #E8F0FE;\n",
       "      border: none;\n",
       "      border-radius: 50%;\n",
       "      cursor: pointer;\n",
       "      display: none;\n",
       "      fill: #1967D2;\n",
       "      height: 32px;\n",
       "      padding: 0 0 0 0;\n",
       "      width: 32px;\n",
       "    }\n",
       "\n",
       "    .colab-df-convert:hover {\n",
       "      background-color: #E2EBFA;\n",
       "      box-shadow: 0px 1px 2px rgba(60, 64, 67, 0.3), 0px 1px 3px 1px rgba(60, 64, 67, 0.15);\n",
       "      fill: #174EA6;\n",
       "    }\n",
       "\n",
       "    [theme=dark] .colab-df-convert {\n",
       "      background-color: #3B4455;\n",
       "      fill: #D2E3FC;\n",
       "    }\n",
       "\n",
       "    [theme=dark] .colab-df-convert:hover {\n",
       "      background-color: #434B5C;\n",
       "      box-shadow: 0px 1px 3px 1px rgba(0, 0, 0, 0.15);\n",
       "      filter: drop-shadow(0px 1px 2px rgba(0, 0, 0, 0.3));\n",
       "      fill: #FFFFFF;\n",
       "    }\n",
       "  </style>\n",
       "\n",
       "      <script>\n",
       "        const buttonEl =\n",
       "          document.querySelector('#df-7e76da02-a0d2-409b-bb52-b3cfe1c56b84 button.colab-df-convert');\n",
       "        buttonEl.style.display =\n",
       "          google.colab.kernel.accessAllowed ? 'block' : 'none';\n",
       "\n",
       "        async function convertToInteractive(key) {\n",
       "          const element = document.querySelector('#df-7e76da02-a0d2-409b-bb52-b3cfe1c56b84');\n",
       "          const dataTable =\n",
       "            await google.colab.kernel.invokeFunction('convertToInteractive',\n",
       "                                                     [key], {});\n",
       "          if (!dataTable) return;\n",
       "\n",
       "          const docLinkHtml = 'Like what you see? Visit the ' +\n",
       "            '<a target=\"_blank\" href=https://colab.research.google.com/notebooks/data_table.ipynb>data table notebook</a>'\n",
       "            + ' to learn more about interactive tables.';\n",
       "          element.innerHTML = '';\n",
       "          dataTable['output_type'] = 'display_data';\n",
       "          await google.colab.output.renderOutput(dataTable, element);\n",
       "          const docLink = document.createElement('div');\n",
       "          docLink.innerHTML = docLinkHtml;\n",
       "          element.appendChild(docLink);\n",
       "        }\n",
       "      </script>\n",
       "    </div>\n",
       "  </div>\n",
       "  "
      ],
      "text/plain": [
       "   index                                           Question  \\\n",
       "1      1  What is in front of the Notre Dame Main Building?   \n",
       "2      2  The Basilica of the Sacred heart at Notre Dame...   \n",
       "4      4  What sits on top of the Main Building at Notre...   \n",
       "\n",
       "                               Answer  \\\n",
       "1           a copper statue of Christ   \n",
       "2                   the Main Building   \n",
       "4  a golden statue of the Virgin Mary   \n",
       "\n",
       "                                            q_tokens  \\\n",
       "1  [what, is, in, front, of, the, notr, dame, mai...   \n",
       "2  [the, basilica, of, the, sacr, heart, at, notr...   \n",
       "4  [what, sit, on, top, of, the, main, build, at,...   \n",
       "\n",
       "                                    a_tokens  keep  \\\n",
       "1             [a, copper, statu, of, christ]  True   \n",
       "2                         [the, main, build]  True   \n",
       "4  [a, golden, statu, of, the, virgin, mari]  True   \n",
       "\n",
       "                                           Q_indexes  \\\n",
       "1      [1, 15, 16, 11, 17, 18, 6, 19, 20, 21, 22, 2]   \n",
       "2  [1, 6, 23, 18, 6, 24, 25, 26, 19, 20, 16, 27, ...   \n",
       "4  [1, 15, 31, 32, 33, 18, 6, 21, 22, 26, 19, 20, 2]   \n",
       "\n",
       "                        A_indexes  \n",
       "1           [1, 4, 5, 6, 7, 8, 2]  \n",
       "2               [1, 9, 10, 11, 2]  \n",
       "4  [1, 4, 17, 6, 7, 9, 18, 19, 2]  "
      ]
     },
     "execution_count": 18,
     "metadata": {},
     "output_type": "execute_result"
    }
   ],
   "source": [
    "train_data_qa_trim.head(3)"
   ]
  },
  {
   "cell_type": "code",
   "execution_count": null,
   "metadata": {
    "id": "7onEuVnwbEBq"
   },
   "outputs": [],
   "source": [
    "# functiojn to run the chatbot, give the input sentences and print the output\n",
    "\n",
    "def chatbot(sentence, model, vocabulary):\n",
    "    #sentence = train_data_qa_trim.iloc[n,1]\n",
    "    sentence = ''.join([s.lower() for s in sentence if s not in string.punctuation])\n",
    "    sentence = ' '.join(stemmer.stem(w) for w in sentence.split())\n",
    "    tokens = nltk.tokenize.RegexpTokenizer(r'\\w+').tokenize(sentence)\n",
    "\n",
    "    indices = [vocabulary.words2index[word] for word in tokens]\n",
    "    indices = [1] + indices + [2] \n",
    "    # indices\n",
    "    src = torch.Tensor(indices).long().to(device)\n",
    "    # print(src)\n",
    "    trg = torch.Tensor([0]*15).long().to(device)\n",
    "    # print(trg)\n",
    "    \n",
    "    teacher_force = 0\n",
    "    training = False\n",
    "    outcome = model(src, trg,teacher_force, training)\n",
    "    reply = []\n",
    "    for i in range(trg.size()[0]):\n",
    "      reply.append( TRG.index2word[int(torch.argmax(outcome[i],0).cpu().numpy())] )\n",
    "    # print(reply)\n",
    "    \n",
    "    # get clean reply without <SOS> and <EOS>\n",
    "    clean_reply = []\n",
    "    reply = reply[1:]\n",
    "    for i in reply:\n",
    "      if i != '<EOS>':\n",
    "        clean_reply.append(i)\n",
    "      if i == '<EOS>': break\n",
    "    clean_reply\n",
    "    if len(clean_reply) == 0:\n",
    "      clean_reply.append('THERE WERE NO PREDICTION')\n",
    "    clean_reply_str = (\" \".join(clean_reply))\n",
    "    # print(\"------------------------\")\n",
    "    print(\"Output: \", clean_reply_str, \"\\n\")\n",
    "     "
   ]
  },
  {
   "cell_type": "code",
   "execution_count": null,
   "metadata": {
    "colab": {
     "base_uri": "https://localhost:8080/"
    },
    "id": "QUw9GgZBV0fP",
    "outputId": "73d891f3-5d24-4917-fcaa-659b6a57d2a8"
   },
   "outputs": [
    {
     "name": "stdout",
     "output_type": "stream",
     "text": [
      "Enter your sentence \n",
      "\n",
      "Type 'exit' to exit from the chat.\n",
      " \n",
      "\n",
      "Input: How many student news papers are found at Notre Dame?\n",
      "Output:  three \n",
      "\n",
      "Input: What is the oldest structure at Notre Dame?\n",
      "Output:  old colleg \n",
      "\n",
      "Input: How many BS level degrees are offered in the College of Engineering at Notre Dame?\n",
      "Output:  eight \n",
      "\n",
      "Input: What is the daily student paper at Notre Dame called?\n",
      "Output:  the observ \n",
      "\n",
      "Input: The Basilica of the Sacred heart at Notre Dame is beside to which structure?\n",
      "Output:  the the great \n",
      "\n",
      "Input: exit\n"
     ]
    }
   ],
   "source": [
    "# Running the chatbot\n",
    "print(\"Enter your sentence\",'\\n')\n",
    "print(\"Type 'exit' to exit from the chat.\\n\", '\\n')\n",
    "\n",
    "while (True):\n",
    "    sentence = input(\"Input: \")\n",
    "    if sentence.strip() == \"exit\":\n",
    "        break\n",
    "    chatbot(sentence, seq2seq, SRC)"
   ]
  },
  {
   "cell_type": "code",
   "execution_count": null,
   "metadata": {
    "id": "bPzF_qVQffhz"
   },
   "outputs": [],
   "source": []
  }
 ],
 "metadata": {
  "accelerator": "GPU",
  "colab": {
   "provenance": []
  },
  "gpuClass": "standard",
  "kernelspec": {
   "display_name": "Python 3 (ipykernel)",
   "language": "python",
   "name": "python3"
  },
  "language_info": {
   "codemirror_mode": {
    "name": "ipython",
    "version": 3
   },
   "file_extension": ".py",
   "mimetype": "text/x-python",
   "name": "python",
   "nbconvert_exporter": "python",
   "pygments_lexer": "ipython3",
   "version": "3.9.5"
  }
 },
 "nbformat": 4,
 "nbformat_minor": 1
}
