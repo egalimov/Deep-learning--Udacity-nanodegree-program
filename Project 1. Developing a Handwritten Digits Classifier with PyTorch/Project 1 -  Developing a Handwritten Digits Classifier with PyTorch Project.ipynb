{
 "cells": [
  {
   "cell_type": "markdown",
   "metadata": {},
   "source": [
    "# Introduction\n",
    "\n",
    "In this project, you will build a neural network of your own design to evaluate the MNIST dataset.\n",
    "\n",
    "Some of the benchmark results on MNIST include can be found [on Yann LeCun's page](http://yann.lecun.com/exdb/mnist/) and include:\n",
    "\n",
    "88% [Lecun et al., 1998](http://yann.lecun.com/exdb/publis/pdf/lecun-98.pdf)\n",
    "95.3% [Lecun et al., 1998](http://yann.lecun.com/exdb/publis/pdf/lecun-98.pdf)\n",
    "99.65% [Ciresan et al., 2011](http://people.idsia.ch/~juergen/ijcai2011.pdf)\n",
    "\n",
    "MNIST is a great dataset for sanity checking your models, since the accuracy levels achieved by large convolutional neural networks and small linear models are both quite high. This makes it important to be familiar with the data.\n",
    "\n",
    "## Imports"
   ]
  },
  {
   "cell_type": "code",
   "execution_count": 1,
   "metadata": {},
   "outputs": [
    {
     "name": "stderr",
     "output_type": "stream",
     "text": [
      "C:\\Users\\EvgenyGalimov\\miniconda3\\envs\\nlp\\lib\\site-packages\\tqdm\\auto.py:22: TqdmWarning: IProgress not found. Please update jupyter and ipywidgets. See https://ipywidgets.readthedocs.io/en/stable/user_install.html\n",
      "  from .autonotebook import tqdm as notebook_tqdm\n"
     ]
    }
   ],
   "source": [
    "## This cell contains the essential imports you will need – DO NOT CHANGE THE CONTENTS! ##\n",
    "import torch\n",
    "import torch.nn as nn\n",
    "import torch.optim as optim\n",
    "import torch.nn.functional as F\n",
    "from torch.utils.data import DataLoader\n",
    "import torchvision\n",
    "import torchvision.transforms as transforms\n",
    "from torchvision import transforms\n",
    "from torchvision import datasets\n",
    "import matplotlib.pyplot as plt\n",
    "import numpy as np\n",
    "from torchsummary import summary\n"
   ]
  },
  {
   "cell_type": "markdown",
   "metadata": {},
   "source": [
    "## Load the Dataset\n",
    "\n",
    "Specify your transforms as a list if you intend to .\n",
    "The transforms module is already loaded as `transforms`.\n",
    "\n",
    "MNIST is fortunately included in the torchvision module.\n",
    "Then, you can create your dataset using the `MNIST` object from `torchvision.datasets` ([the documentation is available here](https://pytorch.org/vision/stable/datasets.html#mnist)).\n",
    "Make sure to specify `download=True`! \n",
    "\n",
    "Once your dataset is created, you'll also need to define a `DataLoader` from the `torch.utils.data` module for both the train and the test set."
   ]
  },
  {
   "cell_type": "code",
   "execution_count": 2,
   "metadata": {},
   "outputs": [
    {
     "data": {
      "text/plain": [
       "<torch._C.Generator at 0x1667bbb9d90>"
      ]
     },
     "execution_count": 2,
     "metadata": {},
     "output_type": "execute_result"
    }
   ],
   "source": [
    "random_seed = 1\n",
    "torch.backends.cudnn.enabled = False\n",
    "torch.manual_seed(random_seed)"
   ]
  },
  {
   "cell_type": "code",
   "execution_count": 3,
   "metadata": {},
   "outputs": [],
   "source": [
    "# Define transforms\n",
    "transform = transforms.Compose([transforms.ToTensor(), transforms.Normalize((0.5,), (0.5,))])\n",
    "batch_size_train = 64  #64\n",
    "batch_size_test = 64\n",
    "\n",
    "# Create training, validation and test sets and dataloaders\n",
    "def get_MNIST_data(transform,batch_size_train,batch_size_test):\n",
    "\n",
    "    training_data_raw = datasets.MNIST(root=\"data\", train=True, download=True, transform=transform)\n",
    "    training_data, validation_data = torch.utils.data.random_split(training_data_raw, (50000, 10000))\n",
    "\n",
    "    train_loader = DataLoader(training_data, batch_size=batch_size_train, shuffle=True)\n",
    "    validation_loader = DataLoader(validation_data, batch_size=batch_size_train, shuffle=True)\n",
    "\n",
    "    # Create test set and define test dataloader\n",
    "    test_data = datasets.MNIST(root=\"data\", train=False, download=True, transform=transform)\n",
    "    test_loader = DataLoader(test_data, batch_size=batch_size_test)\n",
    "    \n",
    "    return train_loader, validation_loader, test_loader"
   ]
  },
  {
   "cell_type": "code",
   "execution_count": 4,
   "metadata": {},
   "outputs": [
    {
     "name": "stdout",
     "output_type": "stream",
     "text": [
      "Train loader\n",
      "782\n",
      "64\n",
      "torch.Size([64, 1, 28, 28])\n",
      "                                             \n",
      "Validation loader\n",
      "157\n",
      "64\n",
      "torch.Size([64, 1, 28, 28])\n",
      "                                             \n",
      "Test loader\n",
      "157\n",
      "64\n",
      "torch.Size([64, 1, 28, 28])\n"
     ]
    },
    {
     "name": "stderr",
     "output_type": "stream",
     "text": [
      "C:\\Users\\EvgenyGalimov\\miniconda3\\envs\\nlp\\lib\\site-packages\\torchvision\\datasets\\mnist.py:498: UserWarning: The given NumPy array is not writeable, and PyTorch does not support non-writeable tensors. This means you can write to the underlying (supposedly non-writeable) NumPy array using the tensor. You may want to copy the array to protect its data or make it writeable before converting it to a tensor. This type of warning will be suppressed for the rest of this program. (Triggered internally at  ..\\torch\\csrc\\utils\\tensor_numpy.cpp:180.)\n",
      "  return torch.from_numpy(parsed.astype(m[2], copy=False)).view(*s)\n"
     ]
    }
   ],
   "source": [
    "train_loader, validation_loader, test_loader = get_MNIST_data(transform,batch_size_train,batch_size_test)\n",
    "\n",
    "print('Train loader')\n",
    "print(len(train_loader))\n",
    "print(train_loader.batch_size)\n",
    "batch = next(iter(train_loader))\n",
    "print(batch[0].shape)\n",
    "\n",
    "print('                                             ')\n",
    "\n",
    "print('Validation loader')\n",
    "print(len(validation_loader))\n",
    "print(validation_loader.batch_size)\n",
    "batch2 = next(iter(validation_loader))\n",
    "print(batch2[0].shape)\n",
    "\n",
    "print('                                             ')\n",
    "\n",
    "print('Test loader')\n",
    "print(len(test_loader))\n",
    "print(test_loader.batch_size)\n",
    "batch3 = next(iter(test_loader))\n",
    "print(batch3[0].shape)\n",
    "\n"
   ]
  },
  {
   "cell_type": "markdown",
   "metadata": {},
   "source": [
    "## Justify your preprocessing\n",
    "\n",
    "I used the following preprocessing steps:\n",
    "1) converting image to tensor.\n",
    "    This step is done using the torchvision.transforms.ToTensor() function. Images need to be converted to tensors so that we could train neural networks as they work with tensors.\n",
    "\n",
    "2) normilising the image.\n",
    "    This step is done using the torchvision.transforms.Normalize() function. For each channel of the image, this transformation will take each pixel, substract mean of the channel and divide it by std of the channel: output[channel] = (input[channel] - mean[channel]) / std[channel].\n",
    "This will make all features to have a similar range so that the gradients don't go out of control"
   ]
  },
  {
   "cell_type": "markdown",
   "metadata": {},
   "source": [
    "## Explore the Dataset\n",
    "Using matplotlib, numpy, and torch, explore the dimensions of your data.\n",
    "\n",
    "You can view images using the `show5` function defined below – it takes a data loader as an argument.\n",
    "Remember that normalized images will look really weird to you! You may want to try changing your transforms to view images.\n",
    "Typically using no transforms other than `toTensor()` works well for viewing – but not as well for training your network.\n",
    "If `show5` doesn't work, go back and check your code for creating your data loaders and your training/test sets."
   ]
  },
  {
   "cell_type": "code",
   "execution_count": 5,
   "metadata": {},
   "outputs": [],
   "source": [
    "## This cell contains a function for showing 5 images from a dataloader – DO NOT CHANGE THE CONTENTS! ##\n",
    "def show5(img_loader):\n",
    "    dataiter = iter(img_loader)\n",
    "    \n",
    "    batch = next(dataiter)\n",
    "    labels = batch[1][0:5]\n",
    "    images = batch[0][0:5]\n",
    "    for i in range(5):\n",
    "        print(int(labels[i].detach()))\n",
    "    \n",
    "        image = images[i].numpy()\n",
    "        plt.imshow(image.T.squeeze().T)\n",
    "        plt.show()"
   ]
  },
  {
   "cell_type": "code",
   "execution_count": 6,
   "metadata": {},
   "outputs": [
    {
     "name": "stdout",
     "output_type": "stream",
     "text": [
      "7\n"
     ]
    },
    {
     "data": {
      "image/png": "[encoded data removed]",
      "text/plain": [
       "<Figure size 432x288 with 1 Axes>"
      ]
     },
     "metadata": {
      "needs_background": "light"
     },
     "output_type": "display_data"
    },
    {
     "name": "stdout",
     "output_type": "stream",
     "text": [
      "2\n"
     ]
    },
    {
     "data": {
      "image/png": "[encoded data removed]",
      "text/plain": [
       "<Figure size 432x288 with 1 Axes>"
      ]
     },
     "metadata": {
      "needs_background": "light"
     },
     "output_type": "display_data"
    },
    {
     "name": "stdout",
     "output_type": "stream",
     "text": [
      "1\n"
     ]
    },
    {
     "data": {
      "image/png": "[encoded data removed]",
      "text/plain": [
       "<Figure size 432x288 with 1 Axes>"
      ]
     },
     "metadata": {
      "needs_background": "light"
     },
     "output_type": "display_data"
    },
    {
     "name": "stdout",
     "output_type": "stream",
     "text": [
      "0\n"
     ]
    },
    {
     "data": {
      "image/png": "[encoded data removed]",
      "text/plain": [
       "<Figure size 432x288 with 1 Axes>"
      ]
     },
     "metadata": {
      "needs_background": "light"
     },
     "output_type": "display_data"
    },
    {
     "name": "stdout",
     "output_type": "stream",
     "text": [
      "4\n"
     ]
    },
    {
     "data": {
      "image/png": "[encoded data removed]",
      "text/plain": [
       "<Figure size 432x288 with 1 Axes>"
      ]
     },
     "metadata": {
      "needs_background": "light"
     },
     "output_type": "display_data"
    }
   ],
   "source": [
    "# Explore data trasformed to tensor\n",
    "# images actually look the same as normalised\n",
    "show5(DataLoader(datasets.MNIST(root=\"data\", train=False, download=True, transform=transforms.ToTensor()), batch_size=32))"
   ]
  },
  {
   "cell_type": "code",
   "execution_count": 7,
   "metadata": {
    "scrolled": true
   },
   "outputs": [
    {
     "data": {
      "image/png": "[encoded data removed]",
      "text/plain": [
       "<Figure size 432x288 with 1 Axes>"
      ]
     },
     "metadata": {
      "needs_background": "light"
     },
     "output_type": "display_data"
    },
    {
     "data": {
      "image/png": "[encoded data removed]",
      "text/plain": [
       "<Figure size 432x288 with 1 Axes>"
      ]
     },
     "metadata": {
      "needs_background": "light"
     },
     "output_type": "display_data"
    },
    {
     "data": {
      "image/png": "[encoded data removed]",
      "text/plain": [
       "<Figure size 432x288 with 1 Axes>"
      ]
     },
     "metadata": {
      "needs_background": "light"
     },
     "output_type": "display_data"
    },
    {
     "data": {
      "image/png": "[encoded data removed]",
      "text/plain": [
       "<Figure size 432x288 with 1 Axes>"
      ]
     },
     "metadata": {
      "needs_background": "light"
     },
     "output_type": "display_data"
    },
    {
     "data": {
      "image/png": "[encoded data removed]",
      "text/plain": [
       "<Figure size 432x288 with 1 Axes>"
      ]
     },
     "metadata": {
      "needs_background": "light"
     },
     "output_type": "display_data"
    }
   ],
   "source": [
    "dataiter = next(iter(test_loader))\n",
    "for i in range(0,5):\n",
    "    plt.imshow(dataiter[0].numpy()[i].squeeze(), cmap='gray_r')\n",
    "    plt.show()    "
   ]
  },
  {
   "cell_type": "code",
   "execution_count": 8,
   "metadata": {},
   "outputs": [
    {
     "data": {
      "image/png": "[encoded data removed]",
      "text/plain": [
       "<Figure size 432x288 with 1 Axes>"
      ]
     },
     "metadata": {
      "needs_background": "light"
     },
     "output_type": "display_data"
    }
   ],
   "source": [
    "dataiter = next(iter(test_loader))\n",
    "plt.imshow(dataiter[0].numpy()[0].squeeze(), cmap='gray_r')\n",
    "plt.show()    "
   ]
  },
  {
   "cell_type": "code",
   "execution_count": 9,
   "metadata": {},
   "outputs": [
    {
     "data": {
      "text/plain": [
       "array([[-1.        , -1.        , -1.        , -1.        , -1.        ,\n",
       "        -1.        , -1.        , -1.        , -1.        , -1.        ,\n",
       "        -1.        , -1.        , -1.        , -1.        , -1.        ,\n",
       "        -1.        , -1.        , -1.        , -1.        , -1.        ,\n",
       "        -1.        , -1.        , -1.        , -1.        , -1.        ,\n",
       "        -1.        , -1.        , -1.        ],\n",
       "       [-1.        , -1.        , -1.        , -1.        , -1.        ,\n",
       "        -1.        , -1.        , -1.        , -1.        , -1.        ,\n",
       "        -1.        , -1.        , -1.        , -1.        , -1.        ,\n",
       "        -1.        , -1.        , -1.        , -1.        , -1.        ,\n",
       "        -1.        , -1.        , -1.        , -1.        , -1.        ,\n",
       "        -1.        , -1.        , -1.        ],\n",
       "       [-1.        , -1.        , -1.        , -1.        , -1.        ,\n",
       "        -1.        , -1.        , -1.        , -1.        , -1.        ,\n",
       "        -1.        , -1.        , -1.        , -1.        , -1.        ,\n",
       "        -1.        , -1.        , -1.        , -1.        , -1.        ,\n",
       "        -1.        , -1.        , -1.        , -1.        , -1.        ,\n",
       "        -1.        , -1.        , -1.        ],\n",
       "       [-1.        , -1.        , -1.        , -1.        , -1.        ,\n",
       "        -1.        , -1.        , -1.        , -1.        , -1.        ,\n",
       "        -1.        , -1.        , -1.        , -1.        , -1.        ,\n",
       "        -1.        , -1.        , -1.        , -1.        , -1.        ,\n",
       "        -1.        , -1.        , -1.        , -1.        , -1.        ,\n",
       "        -1.        , -1.        , -1.        ],\n",
       "       [-1.        , -1.        , -1.        , -1.        , -1.        ,\n",
       "        -1.        , -1.        , -1.        , -1.        , -1.        ,\n",
       "        -1.        , -1.        , -1.        , -1.        , -1.        ,\n",
       "        -1.        , -1.        , -1.        , -1.        , -1.        ,\n",
       "        -1.        , -1.        , -1.        , -1.        , -1.        ,\n",
       "        -1.        , -1.        , -1.        ],\n",
       "       [-1.        , -1.        , -1.        , -1.        , -1.        ,\n",
       "        -1.        , -1.        , -1.        , -1.        , -1.        ,\n",
       "        -1.        , -1.        , -1.        , -1.        , -1.        ,\n",
       "        -1.        , -1.        , -1.        , -1.        , -1.        ,\n",
       "        -1.        , -1.        , -1.        , -1.        , -1.        ,\n",
       "        -1.        , -1.        , -1.        ],\n",
       "       [-1.        , -1.        , -1.        , -1.        , -1.        ,\n",
       "        -1.        , -1.        , -1.        , -1.        , -1.        ,\n",
       "        -1.        , -1.        , -1.        , -1.        , -1.        ,\n",
       "        -1.        , -1.        , -1.        , -1.        , -1.        ,\n",
       "        -1.        , -1.        , -1.        , -1.        , -1.        ,\n",
       "        -1.        , -1.        , -1.        ],\n",
       "       [-1.        , -1.        , -1.        , -1.        , -1.        ,\n",
       "        -1.        , -0.34117645,  0.45098042,  0.24705887,  0.18431377,\n",
       "        -0.5294118 , -0.7176471 , -1.        , -1.        , -1.        ,\n",
       "        -1.        , -1.        , -1.        , -1.        , -1.        ,\n",
       "        -1.        , -1.        , -1.        , -1.        , -1.        ,\n",
       "        -1.        , -1.        , -1.        ],\n",
       "       [-1.        , -1.        , -1.        , -1.        , -1.        ,\n",
       "        -1.        ,  0.7411765 ,  0.99215686,  0.99215686,  0.99215686,\n",
       "         0.99215686,  0.8901961 ,  0.5529412 ,  0.5529412 ,  0.5529412 ,\n",
       "         0.5529412 ,  0.5529412 ,  0.5529412 ,  0.5529412 ,  0.5529412 ,\n",
       "         0.33333337, -0.5921569 , -1.        , -1.        , -1.        ,\n",
       "        -1.        , -1.        , -1.        ],\n",
       "       [-1.        , -1.        , -1.        , -1.        , -1.        ,\n",
       "        -1.        , -0.47450978, -0.10588235, -0.4352941 , -0.10588235,\n",
       "         0.27843142,  0.78039217,  0.99215686,  0.7647059 ,  0.99215686,\n",
       "         0.99215686,  0.99215686,  0.9607843 ,  0.79607844,  0.99215686,\n",
       "         0.99215686,  0.09803927, -1.        , -1.        , -1.        ,\n",
       "        -1.        , -1.        , -1.        ],\n",
       "       [-1.        , -1.        , -1.        , -1.        , -1.        ,\n",
       "        -1.        , -1.        , -1.        , -1.        , -1.        ,\n",
       "        -1.        , -0.8666667 , -0.4823529 , -0.8901961 , -0.47450978,\n",
       "        -0.47450978, -0.47450978, -0.5372549 , -0.8352941 ,  0.8509804 ,\n",
       "         0.99215686, -0.16862744, -1.        , -1.        , -1.        ,\n",
       "        -1.        , -1.        , -1.        ],\n",
       "       [-1.        , -1.        , -1.        , -1.        , -1.        ,\n",
       "        -1.        , -1.        , -1.        , -1.        , -1.        ,\n",
       "        -1.        , -1.        , -1.        , -1.        , -1.        ,\n",
       "        -1.        , -1.        , -1.        , -0.3490196 ,  0.9843137 ,\n",
       "         0.6392157 , -0.85882354, -1.        , -1.        , -1.        ,\n",
       "        -1.        , -1.        , -1.        ],\n",
       "       [-1.        , -1.        , -1.        , -1.        , -1.        ,\n",
       "        -1.        , -1.        , -1.        , -1.        , -1.        ,\n",
       "        -1.        , -1.        , -1.        , -1.        , -1.        ,\n",
       "        -1.        , -1.        , -0.827451  ,  0.827451  ,  1.        ,\n",
       "        -0.3490196 , -1.        , -1.        , -1.        , -1.        ,\n",
       "        -1.        , -1.        , -1.        ],\n",
       "       [-1.        , -1.        , -1.        , -1.        , -1.        ,\n",
       "        -1.        , -1.        , -1.        , -1.        , -1.        ,\n",
       "        -1.        , -1.        , -1.        , -1.        , -1.        ,\n",
       "        -1.        , -1.        ,  0.01176476,  0.99215686,  0.8666667 ,\n",
       "        -0.654902  , -1.        , -1.        , -1.        , -1.        ,\n",
       "        -1.        , -1.        , -1.        ],\n",
       "       [-1.        , -1.        , -1.        , -1.        , -1.        ,\n",
       "        -1.        , -1.        , -1.        , -1.        , -1.        ,\n",
       "        -1.        , -1.        , -1.        , -1.        , -1.        ,\n",
       "        -1.        , -0.5372549 ,  0.9529412 ,  0.99215686, -0.5137255 ,\n",
       "        -1.        , -1.        , -1.        , -1.        , -1.        ,\n",
       "        -1.        , -1.        , -1.        ],\n",
       "       [-1.        , -1.        , -1.        , -1.        , -1.        ,\n",
       "        -1.        , -1.        , -1.        , -1.        , -1.        ,\n",
       "        -1.        , -1.        , -1.        , -1.        , -1.        ,\n",
       "        -1.        ,  0.04313731,  0.99215686,  0.4666667 , -0.9607843 ,\n",
       "        -1.        , -1.        , -1.        , -1.        , -1.        ,\n",
       "        -1.        , -1.        , -1.        ],\n",
       "       [-1.        , -1.        , -1.        , -1.        , -1.        ,\n",
       "        -1.        , -1.        , -1.        , -1.        , -1.        ,\n",
       "        -1.        , -1.        , -1.        , -1.        , -1.        ,\n",
       "        -0.92941177,  0.60784316,  0.94509804, -0.54509807, -1.        ,\n",
       "        -1.        , -1.        , -1.        , -1.        , -1.        ,\n",
       "        -1.        , -1.        , -1.        ],\n",
       "       [-1.        , -1.        , -1.        , -1.        , -1.        ,\n",
       "        -1.        , -1.        , -1.        , -1.        , -1.        ,\n",
       "        -1.        , -1.        , -1.        , -1.        , -1.        ,\n",
       "        -0.01176471,  0.99215686,  0.427451  , -1.        , -1.        ,\n",
       "        -1.        , -1.        , -1.        , -1.        , -1.        ,\n",
       "        -1.        , -1.        , -1.        ],\n",
       "       [-1.        , -1.        , -1.        , -1.        , -1.        ,\n",
       "        -1.        , -1.        , -1.        , -1.        , -1.        ,\n",
       "        -1.        , -1.        , -1.        , -1.        , -0.41176468,\n",
       "         0.96862745,  0.88235295, -0.5529412 , -1.        , -1.        ,\n",
       "        -1.        , -1.        , -1.        , -1.        , -1.        ,\n",
       "        -1.        , -1.        , -1.        ],\n",
       "       [-1.        , -1.        , -1.        , -1.        , -1.        ,\n",
       "        -1.        , -1.        , -1.        , -1.        , -1.        ,\n",
       "        -1.        , -1.        , -1.        , -0.8509804 ,  0.73333335,\n",
       "         0.99215686,  0.30196083, -1.        , -1.        , -1.        ,\n",
       "        -1.        , -1.        , -1.        , -1.        , -1.        ,\n",
       "        -1.        , -1.        , -1.        ],\n",
       "       [-1.        , -1.        , -1.        , -1.        , -1.        ,\n",
       "        -1.        , -1.        , -1.        , -1.        , -1.        ,\n",
       "        -1.        , -1.        , -0.9764706 ,  0.5921569 ,  0.99215686,\n",
       "         0.7176471 , -0.7254902 , -1.        , -1.        , -1.        ,\n",
       "        -1.        , -1.        , -1.        , -1.        , -1.        ,\n",
       "        -1.        , -1.        , -1.        ],\n",
       "       [-1.        , -1.        , -1.        , -1.        , -1.        ,\n",
       "        -1.        , -1.        , -1.        , -1.        , -1.        ,\n",
       "        -1.        , -1.        , -0.7019608 ,  0.99215686,  0.99215686,\n",
       "        -0.3960784 , -1.        , -1.        , -1.        , -1.        ,\n",
       "        -1.        , -1.        , -1.        , -1.        , -1.        ,\n",
       "        -1.        , -1.        , -1.        ],\n",
       "       [-1.        , -1.        , -1.        , -1.        , -1.        ,\n",
       "        -1.        , -1.        , -1.        , -1.        , -1.        ,\n",
       "        -1.        , -0.75686276,  0.75686276,  0.99215686, -0.09803921,\n",
       "        -0.99215686, -1.        , -1.        , -1.        , -1.        ,\n",
       "        -1.        , -1.        , -1.        , -1.        , -1.        ,\n",
       "        -1.        , -1.        , -1.        ],\n",
       "       [-1.        , -1.        , -1.        , -1.        , -1.        ,\n",
       "        -1.        , -1.        , -1.        , -1.        , -1.        ,\n",
       "        -1.        ,  0.04313731,  0.99215686,  0.99215686, -0.5921569 ,\n",
       "        -1.        , -1.        , -1.        , -1.        , -1.        ,\n",
       "        -1.        , -1.        , -1.        , -1.        , -1.        ,\n",
       "        -1.        , -1.        , -1.        ],\n",
       "       [-1.        , -1.        , -1.        , -1.        , -1.        ,\n",
       "        -1.        , -1.        , -1.        , -1.        , -1.        ,\n",
       "        -0.52156866,  0.8980392 ,  0.99215686,  0.99215686, -0.5921569 ,\n",
       "        -1.        , -1.        , -1.        , -1.        , -1.        ,\n",
       "        -1.        , -1.        , -1.        , -1.        , -1.        ,\n",
       "        -1.        , -1.        , -1.        ],\n",
       "       [-1.        , -1.        , -1.        , -1.        , -1.        ,\n",
       "        -1.        , -1.        , -1.        , -1.        , -1.        ,\n",
       "        -0.05098039,  0.99215686,  0.99215686,  0.7176471 , -0.6862745 ,\n",
       "        -1.        , -1.        , -1.        , -1.        , -1.        ,\n",
       "        -1.        , -1.        , -1.        , -1.        , -1.        ,\n",
       "        -1.        , -1.        , -1.        ],\n",
       "       [-1.        , -1.        , -1.        , -1.        , -1.        ,\n",
       "        -1.        , -1.        , -1.        , -1.        , -1.        ,\n",
       "        -0.05098039,  0.99215686,  0.62352943, -0.85882354, -1.        ,\n",
       "        -1.        , -1.        , -1.        , -1.        , -1.        ,\n",
       "        -1.        , -1.        , -1.        , -1.        , -1.        ,\n",
       "        -1.        , -1.        , -1.        ],\n",
       "       [-1.        , -1.        , -1.        , -1.        , -1.        ,\n",
       "        -1.        , -1.        , -1.        , -1.        , -1.        ,\n",
       "        -1.        , -1.        , -1.        , -1.        , -1.        ,\n",
       "        -1.        , -1.        , -1.        , -1.        , -1.        ,\n",
       "        -1.        , -1.        , -1.        , -1.        , -1.        ,\n",
       "        -1.        , -1.        , -1.        ]], dtype=float32)"
      ]
     },
     "execution_count": 9,
     "metadata": {},
     "output_type": "execute_result"
    }
   ],
   "source": [
    "dataiter = next(iter(test_loader))\n",
    "dataiter[0].numpy()[0].squeeze()"
   ]
  },
  {
   "cell_type": "markdown",
   "metadata": {},
   "source": [
    "## Build your Neural Network\n",
    "Using the layers in `torch.nn` (which has been imported as `nn`) and the `torch.nn.functional` module (imported as `F`), construct a neural network based on the parameters of the dataset.\n",
    "Use any architecture you like. \n",
    "\n",
    "*Note*: If you did not flatten your tensors in your transforms or as part of your preprocessing and you are using only `Linear` layers, make sure to use the `Flatten` layer in your network!"
   ]
  },
  {
   "cell_type": "code",
   "execution_count": 10,
   "metadata": {},
   "outputs": [],
   "source": [
    "# Define the class for your neural network\n",
    "class DeepNet_variable_hidden_layers(nn.Module):\n",
    "    def __init__(self, input_layer_size, output_layer_size, hidden_layers_size_list):\n",
    "            super(DeepNet_variable_hidden_layers, self).__init__()\n",
    "            self.input_layer_size = input_layer_size\n",
    "            self.output_layer_size = output_layer_size\n",
    "            self.hidden_layers_size_list = hidden_layers_size_list\n",
    "            self.activation_function = nn.ReLU()\n",
    "            self.output_function = torch.nn.LogSoftmax(dim=1)\n",
    "            # construct a deep net\n",
    "            temp_layer_size = input_layer_size\n",
    "            self.layers = nn.ModuleList()\n",
    "            for hidden_layers_size in hidden_layers_size_list:\n",
    "                self.layers.append(nn.Linear(temp_layer_size, hidden_layers_size))\n",
    "                temp_layer_size = hidden_layers_size\n",
    "            self.layers.append(nn.Linear(temp_layer_size, output_layer_size))\n",
    "            \n",
    "    def forward(self, x):\n",
    "            x = torch.flatten(x, 1) # flatten all dimensions except batch\n",
    "            for layer in self.layers[:-1]:\n",
    "                x = self.activation_function(layer(x))\n",
    "            x = self.output_function(self.layers[-1](x))\n",
    "            return x    \n",
    "  \n",
    "# Net(input_layer_size, output_layer,_size, [list of hhidden layer sizes])\n",
    "# Instantiate the model\n",
    "model = DeepNet_variable_hidden_layers(784, 10, [100,200])"
   ]
  },
  {
   "cell_type": "code",
   "execution_count": 11,
   "metadata": {},
   "outputs": [
    {
     "name": "stdout",
     "output_type": "stream",
     "text": [
      "----------------------------------------------------------------\n",
      "        Layer (type)               Output Shape         Param #\n",
      "================================================================\n",
      "            Linear-1                  [-1, 100]          78,500\n",
      "              ReLU-2                  [-1, 100]               0\n",
      "            Linear-3                  [-1, 200]          20,200\n",
      "              ReLU-4                  [-1, 200]               0\n",
      "            Linear-5                   [-1, 10]           2,010\n",
      "        LogSoftmax-6                   [-1, 10]               0\n",
      "================================================================\n",
      "Total params: 100,710\n",
      "Trainable params: 100,710\n",
      "Non-trainable params: 0\n",
      "----------------------------------------------------------------\n",
      "Input size (MB): 0.00\n",
      "Forward/backward pass size (MB): 0.00\n",
      "Params size (MB): 0.38\n",
      "Estimated Total Size (MB): 0.39\n",
      "----------------------------------------------------------------\n"
     ]
    }
   ],
   "source": [
    "# see the keras like summary of the model\n",
    "\n",
    "summary(model, (1,28,28))\n"
   ]
  },
  {
   "cell_type": "markdown",
   "metadata": {},
   "source": [
    "## Running your Neural Network\n",
    "Use whatever method you like to train your neural network, and ensure you record the average loss at each epoch. \n",
    "Don't forget to use `torch.device()` and the `.to()` method for both your model and your data if you are using GPU!\n",
    "\n",
    "If you want to print your loss **during** each epoch, you can use the `enumerate` function and print the loss after a set number of batches. 250 batches works well for most people!"
   ]
  },
  {
   "cell_type": "code",
   "execution_count": 12,
   "metadata": {},
   "outputs": [],
   "source": [
    "# Define the training loop\n",
    "def train_net(epoch, model, optimizer, criterion, train_loader, validation_loader, model_save_name):\n",
    "    model.train()\n",
    "    train_loss = 0.0\n",
    "    train_correct = 0\n",
    "    for i, (data, target) in enumerate(train_loader):\n",
    "        # data is a list of [inputs, labels]\n",
    "\n",
    "        # Pass to GPU if available.\n",
    "        if torch.cuda.is_available():\n",
    "            data, target = inputs.cuda(), labels.cuda()\n",
    "\n",
    "        optimizer.zero_grad()\n",
    "\n",
    "        output = model(data)\n",
    "        #loss = F.nll_loss(output, target)\n",
    "        loss = criterion(output, target)\n",
    "        loss.backward()\n",
    "        optimizer.step()\n",
    "\n",
    "        _, preds = torch.max(output.data, 1)\n",
    "        train_correct += (preds == target).sum().item()\n",
    "        train_loss += loss.item()\n",
    "    print(f'Epoch {epoch} training accuracy: {100*train_correct/len(train_loader.dataset):.2f}% training loss: {train_loss/len(train_loader):.5f}')\n",
    "    train_loss_history.append(train_loss/len(train_loader))\n",
    "\n",
    "    \n",
    "    val_loss = 0.0\n",
    "    val_correct = 0\n",
    "    model.eval()\n",
    "    with torch.no_grad():\n",
    "        for data2, target2 in validation_loader:\n",
    "            if torch.cuda.is_available():\n",
    "                data2, target2 = inputs.cuda(), labels.cuda()\n",
    "\n",
    "            output2 = model(data2)\n",
    "            loss = criterion(output2, target2)\n",
    "            _2, preds2 = torch.max(output2.data, 1)\n",
    "            val_correct += (preds2 == target2).sum().item()\n",
    "            val_loss += loss.item()\n",
    "        print(f'Epoch {epoch } validation accuracy: {100*val_correct/len(validation_loader.dataset):.2f}% validation loss: {val_loss/len(validation_loader.dataset):.5f}')\n",
    "        val_loss_history.append(val_loss/len(validation_loader.dataset))\n",
    "    torch.save(model.state_dict(), model_save_name)\n",
    "\n",
    "\n",
    "# Define the test loop\n",
    "def test_net(model, param_path, test_loader, criterion):\n",
    "    if param_path != 'no_pretrained':\n",
    "        model.load_state_dict(torch.load(param_path)) \n",
    "    test_loss = 0.0\n",
    "    test_correct = 0\n",
    "    model.eval()\n",
    "    with torch.no_grad():\n",
    "        for data3, target3 in test_loader:\n",
    "            if torch.cuda.is_available():\n",
    "                 data3, target3 = inputs.cuda(), labels.cuda()\n",
    "\n",
    "            output3 = model(data3)\n",
    "            loss3 = criterion(output3, target3)\n",
    "\n",
    "            _3, preds3 = torch.max(output3.data, 1)\n",
    "            test_correct += (preds3 == target3).sum().item()\n",
    "            test_loss += loss3.item()\n",
    "        print(f'test accuracy: {100*test_correct/len(test_loader.dataset):.2f}% validation loss: {test_loss/len(test_loader.dataset):.5f}')"
   ]
  },
  {
   "cell_type": "markdown",
   "metadata": {},
   "source": [
    "### Tried the DNN with 3 layers: 100, 200, 10 units, optimiser - SGD, loss function - nll_loss"
   ]
  },
  {
   "cell_type": "code",
   "execution_count": 13,
   "metadata": {},
   "outputs": [
    {
     "name": "stdout",
     "output_type": "stream",
     "text": [
      "Before training: \n",
      "test accuracy: 10.14% validation loss: 0.03629\n",
      "Training: \n",
      "Epoch 1 training accuracy: 78.44% training loss: 0.76367\n",
      "Epoch 1 validation accuracy: 89.07% validation loss: 0.00604\n",
      "Epoch 2 training accuracy: 90.37% training loss: 0.32450\n",
      "Epoch 2 validation accuracy: 90.51% validation loss: 0.00504\n",
      "Epoch 3 training accuracy: 91.71% training loss: 0.27525\n",
      "Epoch 3 validation accuracy: 91.49% validation loss: 0.00449\n",
      "Epoch 4 training accuracy: 92.84% training loss: 0.23885\n",
      "Epoch 4 validation accuracy: 92.07% validation loss: 0.00421\n",
      "After training: \n",
      "test accuracy: 92.81% validation loss: 0.00364\n"
     ]
    }
   ],
   "source": [
    "# set random seed\n",
    "random_seed = 1\n",
    "torch.manual_seed(random_seed)\n",
    "\n",
    "\n",
    "torch.backends.cudnn.enabled = False\n",
    "\n",
    "num_epochs = 4\n",
    "batch_size_train = 64\n",
    "batch_size_test = 64\n",
    "\n",
    "# Initiate the model\n",
    "model = DeepNet_variable_hidden_layers(784, 10, [100,200])\n",
    "model_save_name = 'model1.pth'\n",
    "\n",
    "learning_rate = 0.01\n",
    "momentum = 0.5\n",
    "\n",
    "# Define optimiser\n",
    "optimizer = optim.SGD(model.parameters(), lr=learning_rate, momentum=momentum)\n",
    "# Define loss function\n",
    "criterion = F.nll_loss\n",
    "\n",
    "train_loss_history = list()\n",
    "val_loss_history = list()\n",
    "\n",
    "train_loader, validation_loader, test_loader = get_MNIST_data(transform,batch_size_train,batch_size_test)\n",
    "print('Before training: ' )\n",
    "test_net(model, 'no_pretrained', test_loader, criterion)\n",
    "print('Training: ' )\n",
    "for epoch in range(1, num_epochs + 1):\n",
    "    train_net(epoch, model, optimizer, criterion, train_loader, validation_loader, model_save_name)\n",
    "print('After training: ' )\n",
    "test_net(model, 'model1.pth', test_loader, criterion)\n"
   ]
  },
  {
   "cell_type": "markdown",
   "metadata": {},
   "source": [
    "Plot the training loss (and validation loss/accuracy, if recorded)."
   ]
  },
  {
   "cell_type": "code",
   "execution_count": 14,
   "metadata": {},
   "outputs": [
    {
     "data": {
      "image/png": "[encoded data removed]",
      "text/plain": [
       "<Figure size 432x288 with 1 Axes>"
      ]
     },
     "metadata": {
      "needs_background": "light"
     },
     "output_type": "display_data"
    }
   ],
   "source": [
    "# Plot the training and validation loss history\n",
    "plt.plot(train_loss_history, label=\"Training Loss\")\n",
    "plt.plot(val_loss_history, label=\"Validation Loss\")\n",
    "plt.legend()\n",
    "plt.show()"
   ]
  },
  {
   "cell_type": "markdown",
   "metadata": {},
   "source": [
    "## Testing your model\n",
    "Using the previously created `DataLoader` for the test set, compute the percentage of correct predictions using the highest probability prediction. \n",
    "\n",
    "If your accuracy is over 90%, great work, but see if you can push a bit further! \n",
    "If your accuracy is under 90%, you'll need to make improvements.\n",
    "Go back and check your model architecture, loss function, and optimizer to make sure they're appropriate for an image classification task."
   ]
  },
  {
   "cell_type": "code",
   "execution_count": 15,
   "metadata": {},
   "outputs": [
    {
     "name": "stdout",
     "output_type": "stream",
     "text": [
      "After training: \n",
      "test accuracy: 92.81% validation loss: 0.00364\n"
     ]
    }
   ],
   "source": [
    "print('After training: ' )\n",
    "test_net(model, 'model1.pth', test_loader, criterion)"
   ]
  },
  {
   "cell_type": "markdown",
   "metadata": {},
   "source": [
    "## Improving your model\n",
    "\n",
    "Once your model is done training, try tweaking your hyperparameters and training again below to improve your accuracy on the test set!"
   ]
  },
  {
   "cell_type": "markdown",
   "metadata": {},
   "source": [
    "### Tried the same DNN with 3 layers: 100, 200, 10 units, but changed optimiser to Adam, loss function - nll_loss"
   ]
  },
  {
   "cell_type": "code",
   "execution_count": 16,
   "metadata": {},
   "outputs": [
    {
     "name": "stdout",
     "output_type": "stream",
     "text": [
      "Before training: \n",
      "test accuracy: 10.14% validation loss: 0.03629\n",
      "Training: \n",
      "Epoch 1 training accuracy: 87.00% training loss: 0.41876\n",
      "Epoch 1 validation accuracy: 90.11% validation loss: 0.00527\n",
      "Epoch 2 training accuracy: 91.61% training loss: 0.29032\n",
      "Epoch 2 validation accuracy: 90.96% validation loss: 0.00528\n",
      "Epoch 3 training accuracy: 92.28% training loss: 0.26684\n",
      "Epoch 3 validation accuracy: 91.62% validation loss: 0.00447\n",
      "Epoch 4 training accuracy: 92.63% training loss: 0.26146\n",
      "Epoch 4 validation accuracy: 92.15% validation loss: 0.00474\n",
      "After training: \n",
      "test accuracy: 92.31% validation loss: 0.00434\n"
     ]
    }
   ],
   "source": [
    "random_seed = 1\n",
    "torch.backends.cudnn.enabled = False\n",
    "torch.manual_seed(random_seed)\n",
    "\n",
    "num_epochs = 4\n",
    "batch_size_train = 64\n",
    "batch_size_test = 64\n",
    "\n",
    "# added 3 more hidden layers -100, 50, 20\n",
    "model = DeepNet_variable_hidden_layers(784, 10, [100,200])\n",
    "model_save_name = 'model2.pth'\n",
    "\n",
    "learning_rate = 0.01\n",
    "momentum = 0.5\n",
    "\n",
    "optimizer = optim.Adam(model.parameters(), lr=learning_rate)\n",
    "\n",
    "criterion = F.nll_loss\n",
    "\n",
    "train_loss_history = list()\n",
    "val_loss_history = list()\n",
    "\n",
    "train_loader, validation_loader, test_loader = get_MNIST_data(transform,batch_size_train,batch_size_test)\n",
    "print('Before training: ' )\n",
    "test_net(model, 'no_pretrained', test_loader, criterion)\n",
    "print('Training: ' )\n",
    "for epoch in range(1, num_epochs + 1):\n",
    "    train_net(epoch, model, optimizer, criterion, train_loader, validation_loader, model_save_name)\n",
    "print('After training: ' )\n",
    "test_net(model, 'model2.pth', test_loader, criterion)\n"
   ]
  },
  {
   "cell_type": "markdown",
   "metadata": {},
   "source": [
    "### As Adam did not perform better, I tried a different DNN with 3 layers: 50, 200, 10 units, returned optimiser to SGD, loss function - nll_loss"
   ]
  },
  {
   "cell_type": "code",
   "execution_count": 17,
   "metadata": {
    "scrolled": false
   },
   "outputs": [
    {
     "name": "stdout",
     "output_type": "stream",
     "text": [
      "Before training: \n",
      "test accuracy: 9.79% validation loss: 0.03633\n",
      "Training: \n",
      "Epoch 1 training accuracy: 76.87% training loss: 0.78570\n",
      "Epoch 1 validation accuracy: 88.77% validation loss: 0.00583\n",
      "Epoch 2 training accuracy: 90.01% training loss: 0.33635\n",
      "Epoch 2 validation accuracy: 90.36% validation loss: 0.00503\n",
      "Epoch 3 training accuracy: 91.52% training loss: 0.28596\n",
      "Epoch 3 validation accuracy: 91.98% validation loss: 0.00416\n",
      "Epoch 4 training accuracy: 92.55% training loss: 0.24972\n",
      "Epoch 4 validation accuracy: 93.16% validation loss: 0.00368\n",
      "After training: \n",
      "test accuracy: 93.52% validation loss: 0.00350\n"
     ]
    }
   ],
   "source": [
    "random_seed = 1\n",
    "torch.backends.cudnn.enabled = False\n",
    "torch.manual_seed(random_seed)\n",
    "\n",
    "num_epochs = 4\n",
    "batch_size_train = 64\n",
    "batch_size_test = 64\n",
    "\n",
    "# changed the number of units in the first layer - 50\n",
    "model = DeepNet_variable_hidden_layers(784, 10, [50,200])\n",
    "model_save_name = 'model3.pth'\n",
    "\n",
    "learning_rate = 0.01\n",
    "momentum = 0.5\n",
    "\n",
    "optimizer = optim.SGD(model.parameters(), lr=learning_rate, momentum=momentum)\n",
    "\n",
    "criterion = F.nll_loss\n",
    "\n",
    "train_loss_history = list()\n",
    "val_loss_history = list()\n",
    "\n",
    "train_loader, validation_loader, test_loader = get_MNIST_data(transform,batch_size_train,batch_size_test)\n",
    "print('Before training: ' )\n",
    "test_net(model, 'no_pretrained', test_loader, criterion)\n",
    "print('Training: ' )\n",
    "for epoch in range(1, num_epochs + 1):\n",
    "    train_net(epoch, model, optimizer, criterion, train_loader, validation_loader, model_save_name)\n",
    "print('After training: ' )\n",
    "test_net(model, 'model3.pth', test_loader, criterion)\n"
   ]
  },
  {
   "cell_type": "markdown",
   "metadata": {},
   "source": [
    "## Saving your model\n",
    "Using `torch.save`, save your model for future loading.\n",
    "As the last model (model 3) performed best - accuarcy on test - 93.52%, I am saving it."
   ]
  },
  {
   "cell_type": "code",
   "execution_count": 18,
   "metadata": {},
   "outputs": [],
   "source": [
    "torch.save(model, \"final_model.pt\" ) \n",
    "torch.save(model.state_dict(), \"final_model_params.pth\" ) "
   ]
  }
 ],
 "metadata": {
  "kernelspec": {
   "display_name": "Python 3 (ipykernel)",
   "language": "python",
   "name": "python3"
  },
  "language_info": {
   "codemirror_mode": {
    "name": "ipython",
    "version": 3
   },
   "file_extension": ".py",
   "mimetype": "text/x-python",
   "name": "python",
   "nbconvert_exporter": "python",
   "pygments_lexer": "ipython3",
   "version": "3.7.16"
  }
 },
 "nbformat": 4,
 "nbformat_minor": 4
}
